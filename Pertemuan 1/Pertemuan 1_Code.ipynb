{
 "cells": [
  {
   "cell_type": "markdown",
   "id": "ba6d06db",
   "metadata": {},
   "source": [
    "Introduction about Numpy \n",
    "---"
   ]
  },
  {
   "cell_type": "code",
   "execution_count": 14,
   "id": "0f14f548",
   "metadata": {},
   "outputs": [],
   "source": [
    "import numpy as np"
   ]
  },
  {
   "cell_type": "code",
   "execution_count": 10,
   "id": "d1a8d7a6",
   "metadata": {},
   "outputs": [
    {
     "data": {
      "text/plain": [
       "'1.20.1'"
      ]
     },
     "execution_count": 10,
     "metadata": {},
     "output_type": "execute_result"
    }
   ],
   "source": [
    "np.__version__"
   ]
  },
  {
   "cell_type": "code",
   "execution_count": 9,
   "id": "180ebda3",
   "metadata": {},
   "outputs": [
    {
     "data": {
      "text/plain": [
       "<function numpy.info(object=None, maxwidth=76, output=<ipykernel.iostream.OutStream object at 0x0000019A43B21B20>, toplevel='numpy')>"
      ]
     },
     "execution_count": 9,
     "metadata": {},
     "output_type": "execute_result"
    }
   ],
   "source": [
    "np.info"
   ]
  },
  {
   "cell_type": "code",
   "execution_count": 12,
   "id": "87888ca3",
   "metadata": {},
   "outputs": [],
   "source": [
    "#List\n",
    "\n",
    "a = [1, 2, 3, 4]\n",
    "b = [5, 6, 7, 8]"
   ]
  },
  {
   "cell_type": "code",
   "execution_count": 14,
   "id": "4635aed4",
   "metadata": {},
   "outputs": [
    {
     "name": "stdout",
     "output_type": "stream",
     "text": [
      "[1, 2, 3, 4, 5, 6, 7, 8]\n"
     ]
    },
    {
     "ename": "TypeError",
     "evalue": "can't multiply sequence by non-int of type 'list'",
     "output_type": "error",
     "traceback": [
      "\u001b[1;31m---------------------------------------------------------------------------\u001b[0m",
      "\u001b[1;31mTypeError\u001b[0m                                 Traceback (most recent call last)",
      "\u001b[1;32m<ipython-input-14-f39769907e38>\u001b[0m in \u001b[0;36m<module>\u001b[1;34m\u001b[0m\n\u001b[0;32m      1\u001b[0m \u001b[0mprint\u001b[0m\u001b[1;33m(\u001b[0m\u001b[0ma\u001b[0m\u001b[1;33m+\u001b[0m\u001b[0mb\u001b[0m\u001b[1;33m)\u001b[0m\u001b[1;33m\u001b[0m\u001b[1;33m\u001b[0m\u001b[0m\n\u001b[1;32m----> 2\u001b[1;33m \u001b[0mprint\u001b[0m\u001b[1;33m(\u001b[0m\u001b[0ma\u001b[0m\u001b[1;33m*\u001b[0m\u001b[0mb\u001b[0m\u001b[1;33m)\u001b[0m\u001b[1;33m\u001b[0m\u001b[1;33m\u001b[0m\u001b[0m\n\u001b[0m\u001b[0;32m      3\u001b[0m \u001b[0mprint\u001b[0m\u001b[1;33m(\u001b[0m\u001b[0mc\u001b[0m\u001b[1;33m)\u001b[0m\u001b[1;33m\u001b[0m\u001b[1;33m\u001b[0m\u001b[0m\n\u001b[0;32m      4\u001b[0m \u001b[1;33m\u001b[0m\u001b[0m\n\u001b[0;32m      5\u001b[0m \u001b[1;33m\u001b[0m\u001b[0m\n",
      "\u001b[1;31mTypeError\u001b[0m: can't multiply sequence by non-int of type 'list'"
     ]
    }
   ],
   "source": [
    "print(a+b)\n",
    "print(a*b)\n",
    "\n",
    "\n",
    "#Eror dikarenakan hal-hal berikut:\n",
    "#Dalam list tidak bisa dimultiplay\n",
    "#Dimana dalam list hanya ditambahkan dari variabel a ke variabel b yang kemudian menjadi list baru yang isinya variabel a dan b."
   ]
  },
  {
   "cell_type": "code",
   "execution_count": 15,
   "id": "1e91eaeb",
   "metadata": {},
   "outputs": [
    {
     "name": "stdout",
     "output_type": "stream",
     "text": [
      "[ 6  8 10 12]\n",
      "[0.2        0.33333333 0.42857143 0.5       ]\n"
     ]
    }
   ],
   "source": [
    "a_array = np.array(a)\n",
    "b_array = np.array(b)\n",
    "\n",
    "print(a_array + b_array)\n",
    "print(a_array / b_array)"
   ]
  },
  {
   "cell_type": "markdown",
   "id": "62895e46",
   "metadata": {},
   "source": [
    "Contoh 1\n",
    "--"
   ]
  },
  {
   "cell_type": "code",
   "execution_count": 17,
   "id": "6cb14f0b",
   "metadata": {},
   "outputs": [],
   "source": [
    "import numpy as np"
   ]
  },
  {
   "cell_type": "code",
   "execution_count": 18,
   "id": "8c74b9c1",
   "metadata": {},
   "outputs": [],
   "source": [
    "a = np.array([1,2,3,4,5,6,7,8,9])"
   ]
  },
  {
   "cell_type": "code",
   "execution_count": 19,
   "id": "3c23bf65",
   "metadata": {},
   "outputs": [
    {
     "data": {
      "text/plain": [
       "array([1, 2, 3, 4, 5, 6, 7, 8, 9])"
      ]
     },
     "execution_count": 19,
     "metadata": {},
     "output_type": "execute_result"
    }
   ],
   "source": [
    "a"
   ]
  },
  {
   "cell_type": "code",
   "execution_count": 20,
   "id": "7f0ebaad",
   "metadata": {},
   "outputs": [],
   "source": [
    "b = a.reshape((3,3))"
   ]
  },
  {
   "cell_type": "code",
   "execution_count": 21,
   "id": "598fab64",
   "metadata": {},
   "outputs": [
    {
     "data": {
      "text/plain": [
       "array([[1, 2, 3],\n",
       "       [4, 5, 6],\n",
       "       [7, 8, 9]])"
      ]
     },
     "execution_count": 21,
     "metadata": {},
     "output_type": "execute_result"
    }
   ],
   "source": [
    "b"
   ]
  },
  {
   "cell_type": "code",
   "execution_count": 22,
   "id": "f76b9a57",
   "metadata": {},
   "outputs": [
    {
     "data": {
      "text/plain": [
       "array([[14, 24, 34],\n",
       "       [44, 54, 64],\n",
       "       [74, 84, 94]])"
      ]
     },
     "execution_count": 22,
     "metadata": {},
     "output_type": "execute_result"
    }
   ],
   "source": [
    "b * 10 + 4"
   ]
  },
  {
   "cell_type": "markdown",
   "id": "d99d0d61",
   "metadata": {},
   "source": [
    "Membuat Numpy Arrays\n",
    "--"
   ]
  },
  {
   "cell_type": "code",
   "execution_count": 26,
   "id": "feaf39e5",
   "metadata": {},
   "outputs": [
    {
     "data": {
      "text/plain": [
       "(5,)"
      ]
     },
     "execution_count": 26,
     "metadata": {},
     "output_type": "execute_result"
    }
   ],
   "source": [
    "# vector, list\n",
    "v = np.array([1, 2, 3, 4, 5])\n",
    "\n",
    "v.shape"
   ]
  },
  {
   "cell_type": "code",
   "execution_count": 27,
   "id": "41d8f622",
   "metadata": {},
   "outputs": [
    {
     "data": {
      "text/plain": [
       "(2, 3)"
      ]
     },
     "execution_count": 27,
     "metadata": {},
     "output_type": "execute_result"
    }
   ],
   "source": [
    "# matrix, nested list\n",
    "m = np.array([[1, 2, 3], [4, 5, 6]])\n",
    "\n",
    "m.shape"
   ]
  },
  {
   "cell_type": "code",
   "execution_count": 28,
   "id": "23e91abc",
   "metadata": {},
   "outputs": [
    {
     "data": {
      "text/plain": [
       "(numpy.ndarray, numpy.ndarray)"
      ]
     },
     "execution_count": 28,
     "metadata": {},
     "output_type": "execute_result"
    }
   ],
   "source": [
    "type(v), type(m)"
   ]
  },
  {
   "cell_type": "code",
   "execution_count": 29,
   "id": "8c70181b",
   "metadata": {},
   "outputs": [],
   "source": [
    "a = [1,2,3]"
   ]
  },
  {
   "cell_type": "code",
   "execution_count": 32,
   "id": "ec2d87d6",
   "metadata": {},
   "outputs": [
    {
     "data": {
      "text/plain": [
       "list"
      ]
     },
     "execution_count": 32,
     "metadata": {},
     "output_type": "execute_result"
    }
   ],
   "source": [
    "type(a)"
   ]
  },
  {
   "cell_type": "markdown",
   "id": "13074bc2",
   "metadata": {},
   "source": [
    "Perbedaan antara array v dan m hanya dalam bentuknya. Sehingga dalam hal ini kita bisa mendapatkan informasi tentang bentuk array dengan menggunakan ndarray.shape"
   ]
  },
  {
   "cell_type": "code",
   "execution_count": 33,
   "id": "13b8e1bd",
   "metadata": {},
   "outputs": [
    {
     "data": {
      "text/plain": [
       "(5,)"
      ]
     },
     "execution_count": 33,
     "metadata": {},
     "output_type": "execute_result"
    }
   ],
   "source": [
    "v.shape"
   ]
  },
  {
   "cell_type": "code",
   "execution_count": 34,
   "id": "452ac8f4",
   "metadata": {},
   "outputs": [
    {
     "data": {
      "text/plain": [
       "(2, 3)"
      ]
     },
     "execution_count": 34,
     "metadata": {},
     "output_type": "execute_result"
    }
   ],
   "source": [
    "m.shape"
   ]
  },
  {
   "cell_type": "code",
   "execution_count": 35,
   "id": "a4a1305f",
   "metadata": {},
   "outputs": [
    {
     "data": {
      "text/plain": [
       "6"
      ]
     },
     "execution_count": 35,
     "metadata": {},
     "output_type": "execute_result"
    }
   ],
   "source": [
    "m.size"
   ]
  },
  {
   "cell_type": "markdown",
   "id": "a51bafbf",
   "metadata": {},
   "source": [
    "Array Menggunakan dtype\n",
    "--"
   ]
  },
  {
   "cell_type": "code",
   "execution_count": 38,
   "id": "8438eca4",
   "metadata": {},
   "outputs": [],
   "source": [
    "one_dimension = np.array([1, 2, 3])\n",
    "\n",
    "two_dimension = np.array([[4, 5, 6],\n",
    "                          [7, 8, 9]])"
   ]
  },
  {
   "cell_type": "code",
   "execution_count": 39,
   "id": "7f1e2b56",
   "metadata": {},
   "outputs": [
    {
     "data": {
      "text/plain": [
       "(3,)"
      ]
     },
     "execution_count": 39,
     "metadata": {},
     "output_type": "execute_result"
    }
   ],
   "source": [
    "one_dimension.shape"
   ]
  },
  {
   "cell_type": "code",
   "execution_count": 40,
   "id": "fe47bd2b",
   "metadata": {},
   "outputs": [
    {
     "data": {
      "text/plain": [
       "(2, 3)"
      ]
     },
     "execution_count": 40,
     "metadata": {},
     "output_type": "execute_result"
    }
   ],
   "source": [
    "two_dimension.shape"
   ]
  },
  {
   "cell_type": "markdown",
   "id": "a0a316f4",
   "metadata": {},
   "source": [
    "Latihan 1\n",
    "---"
   ]
  },
  {
   "cell_type": "markdown",
   "id": "755dd564",
   "metadata": {},
   "source": [
    "Soal:\n",
    "\n",
    "1. Membuat array 1 dimensi 7, \n",
    "2. Membuat array 2 dimensi 3, 3\n",
    "3. Membuat array 3 dimensi 4, 4, 4"
   ]
  },
  {
   "cell_type": "code",
   "execution_count": 36,
   "id": "753b3930",
   "metadata": {},
   "outputs": [],
   "source": [
    "# Membuat array 1 dimensi 7\n",
    "soal_1 = np.array([1, 2, 3, 4, 5, 6, 7])"
   ]
  },
  {
   "cell_type": "code",
   "execution_count": 37,
   "id": "ce15aba6",
   "metadata": {},
   "outputs": [
    {
     "data": {
      "text/plain": [
       "(7,)"
      ]
     },
     "execution_count": 37,
     "metadata": {},
     "output_type": "execute_result"
    }
   ],
   "source": [
    "soal_1.shape"
   ]
  },
  {
   "cell_type": "code",
   "execution_count": 42,
   "id": "72bbdc75",
   "metadata": {},
   "outputs": [],
   "source": [
    "# Membuat array 2 dimensi 3, 3\n",
    "soal_2 = np.array([[1, 2, 3],\n",
    "                   [4, 5, 6],\n",
    "                   [7, 8, 9]])"
   ]
  },
  {
   "cell_type": "code",
   "execution_count": 43,
   "id": "aaedbbbc",
   "metadata": {},
   "outputs": [
    {
     "data": {
      "text/plain": [
       "(3, 3)"
      ]
     },
     "execution_count": 43,
     "metadata": {},
     "output_type": "execute_result"
    }
   ],
   "source": [
    "soal_2.shape"
   ]
  },
  {
   "cell_type": "code",
   "execution_count": 55,
   "id": "61b30f7b",
   "metadata": {},
   "outputs": [],
   "source": [
    "# Membuat array 2 dimensi 4, 4, 4\n",
    "soal_3 = np.array([[[1, 2, 3, 4],\n",
    "                    [5, 6, 7, 8],\n",
    "                    [10, 11, 12, 13],\n",
    "                    [14, 15, 16, 17]],\n",
    "                   \n",
    "                   [[1, 2, 3, 4],\n",
    "                    [5, 6, 7, 8],\n",
    "                    [10, 11, 12, 13],\n",
    "                    [14, 15, 16, 17]],\n",
    "                   \n",
    "                   [[1, 2, 3, 4],\n",
    "                    [5, 6, 7, 8],\n",
    "                    [10, 11, 12, 13],\n",
    "                    [14, 15, 16, 17]],\n",
    "                   \n",
    "                   [[1, 2, 3, 4],\n",
    "                    [5, 6, 7, 8],\n",
    "                    [10, 11, 12, 13],\n",
    "                    [14, 15, 16, 17]]])\n",
    "                \n",
    "                       "
   ]
  },
  {
   "cell_type": "code",
   "execution_count": 56,
   "id": "44cb5ad5",
   "metadata": {},
   "outputs": [
    {
     "data": {
      "text/plain": [
       "(4, 4, 4)"
      ]
     },
     "execution_count": 56,
     "metadata": {},
     "output_type": "execute_result"
    }
   ],
   "source": [
    "soal_3.shape"
   ]
  },
  {
   "cell_type": "markdown",
   "id": "ad7df827",
   "metadata": {},
   "source": [
    "Mendefinisikan tipe data array dengan menggunakan kata kunci dtype seperti `int`, `float`, `complex`, `bool`, `object`dan sebagainya"
   ]
  },
  {
   "cell_type": "code",
   "execution_count": 70,
   "id": "74374887",
   "metadata": {
    "scrolled": true
   },
   "outputs": [
    {
     "data": {
      "text/plain": [
       "array([[1., 2., 3.],\n",
       "       [4., 5., 6.]])"
      ]
     },
     "execution_count": 70,
     "metadata": {},
     "output_type": "execute_result"
    }
   ],
   "source": [
    "m = np.array([[1, 2, 3],\n",
    "              [4, 5, 6]], dtype=float)\n",
    "\n",
    "m"
   ]
  },
  {
   "cell_type": "markdown",
   "id": "ec931346",
   "metadata": {},
   "source": [
    "Membuat Matrix Zero\n",
    "---"
   ]
  },
  {
   "cell_type": "code",
   "execution_count": 71,
   "id": "d6e4696b",
   "metadata": {},
   "outputs": [
    {
     "data": {
      "text/plain": [
       "array([0., 0., 0., 0., 0.])"
      ]
     },
     "execution_count": 71,
     "metadata": {},
     "output_type": "execute_result"
    }
   ],
   "source": [
    "# One dimension\n",
    "\n",
    "zeros_matrix = np.zeros(5)\n",
    "\n",
    "zeros_matrix"
   ]
  },
  {
   "cell_type": "code",
   "execution_count": 73,
   "id": "3c3328db",
   "metadata": {},
   "outputs": [
    {
     "ename": "AttributeError",
     "evalue": "module 'numpy' has no attribute 'zeros2'",
     "output_type": "error",
     "traceback": [
      "\u001b[1;31m---------------------------------------------------------------------------\u001b[0m",
      "\u001b[1;31mAttributeError\u001b[0m                            Traceback (most recent call last)",
      "\u001b[1;32m<ipython-input-73-a575f1a197e4>\u001b[0m in \u001b[0;36m<module>\u001b[1;34m\u001b[0m\n\u001b[0;32m      1\u001b[0m \u001b[1;31m#two dimension\u001b[0m\u001b[1;33m\u001b[0m\u001b[1;33m\u001b[0m\u001b[1;33m\u001b[0m\u001b[0m\n\u001b[0;32m      2\u001b[0m \u001b[1;33m\u001b[0m\u001b[0m\n\u001b[1;32m----> 3\u001b[1;33m \u001b[0mzeros_matrix2\u001b[0m \u001b[1;33m=\u001b[0m \u001b[0mnp\u001b[0m\u001b[1;33m.\u001b[0m\u001b[0mzeros2\u001b[0m\u001b[1;33m(\u001b[0m\u001b[1;36m5\u001b[0m\u001b[1;33m,\u001b[0m\u001b[1;36m2\u001b[0m\u001b[1;33m)\u001b[0m\u001b[1;33m\u001b[0m\u001b[1;33m\u001b[0m\u001b[0m\n\u001b[0m",
      "\u001b[1;32m~\\anaconda3\\lib\\site-packages\\numpy\\__init__.py\u001b[0m in \u001b[0;36m__getattr__\u001b[1;34m(attr)\u001b[0m\n\u001b[0;32m    301\u001b[0m                 \u001b[1;32mreturn\u001b[0m \u001b[0mTester\u001b[0m\u001b[1;33m\u001b[0m\u001b[1;33m\u001b[0m\u001b[0m\n\u001b[0;32m    302\u001b[0m \u001b[1;33m\u001b[0m\u001b[0m\n\u001b[1;32m--> 303\u001b[1;33m             raise AttributeError(\"module {!r} has no attribute \"\n\u001b[0m\u001b[0;32m    304\u001b[0m                                  \"{!r}\".format(__name__, attr))\n\u001b[0;32m    305\u001b[0m \u001b[1;33m\u001b[0m\u001b[0m\n",
      "\u001b[1;31mAttributeError\u001b[0m: module 'numpy' has no attribute 'zeros2'"
     ]
    }
   ],
   "source": [
    "#two dimension\n",
    "\n",
    "zeros_matrix2 = np.zeros(5,2)\n",
    "\n",
    "#Eror karena harus menggunakan format tuple "
   ]
  },
  {
   "cell_type": "code",
   "execution_count": 74,
   "id": "5621e39d",
   "metadata": {},
   "outputs": [
    {
     "data": {
      "text/plain": [
       "array([[0., 0.],\n",
       "       [0., 0.],\n",
       "       [0., 0.],\n",
       "       [0., 0.],\n",
       "       [0., 0.]])"
      ]
     },
     "execution_count": 74,
     "metadata": {},
     "output_type": "execute_result"
    }
   ],
   "source": [
    "# Format Tuple dalam two dimention\n",
    "\n",
    "zeros_matrix2 = np.zeros((5,2)) # 5 baris, 2 kolom\n",
    "zeros_matrix2 "
   ]
  },
  {
   "cell_type": "markdown",
   "id": "65745700",
   "metadata": {},
   "source": [
    "Contoh\n",
    "---"
   ]
  },
  {
   "cell_type": "code",
   "execution_count": null,
   "id": "ae9406ca",
   "metadata": {},
   "outputs": [],
   "source": [
    "zeros = np.zeros((7, 7), dtype=int)\n",
    "\n",
    "# Print zeros\n",
    "zeros"
   ]
  },
  {
   "cell_type": "markdown",
   "id": "c07f6854",
   "metadata": {},
   "source": [
    "Membuat Matrix Ones\n",
    "---"
   ]
  },
  {
   "cell_type": "code",
   "execution_count": 75,
   "id": "b9e5a10a",
   "metadata": {},
   "outputs": [
    {
     "data": {
      "text/plain": [
       "array([1., 1., 1., 1., 1.])"
      ]
     },
     "execution_count": 75,
     "metadata": {},
     "output_type": "execute_result"
    }
   ],
   "source": [
    "#one dimension\n",
    "\n",
    "matrix_ones = np.ones(5)\n",
    "matrix_ones "
   ]
  },
  {
   "cell_type": "code",
   "execution_count": 78,
   "id": "9736bb50",
   "metadata": {},
   "outputs": [
    {
     "data": {
      "text/plain": [
       "array([[1., 1.],\n",
       "       [1., 1.],\n",
       "       [1., 1.],\n",
       "       [1., 1.],\n",
       "       [1., 1.]])"
      ]
     },
     "execution_count": 78,
     "metadata": {},
     "output_type": "execute_result"
    }
   ],
   "source": [
    "#two_dimension\n",
    "\n",
    "matrix_ones2 = np.ones((5,2)) # 5 baris, 2 kolom\n",
    "matrix_ones2"
   ]
  },
  {
   "cell_type": "code",
   "execution_count": 76,
   "id": "42a89f68",
   "metadata": {},
   "outputs": [
    {
     "data": {
      "text/plain": [
       "array([[[1., 1.],\n",
       "        [1., 1.],\n",
       "        [1., 1.],\n",
       "        [1., 1.]],\n",
       "\n",
       "       [[1., 1.],\n",
       "        [1., 1.],\n",
       "        [1., 1.],\n",
       "        [1., 1.]],\n",
       "\n",
       "       [[1., 1.],\n",
       "        [1., 1.],\n",
       "        [1., 1.],\n",
       "        [1., 1.]]])"
      ]
     },
     "execution_count": 76,
     "metadata": {},
     "output_type": "execute_result"
    }
   ],
   "source": [
    "#three dimension\n",
    "\n",
    "matrix_ones3 = np.ones((3, 4, 2)) #3 rows, 4 columns, 2 depth\n",
    "matrix_ones3"
   ]
  },
  {
   "cell_type": "markdown",
   "id": "6293084b",
   "metadata": {},
   "source": [
    "Contoh \n",
    "---"
   ]
  },
  {
   "cell_type": "code",
   "execution_count": null,
   "id": "cd58a5a6",
   "metadata": {},
   "outputs": [],
   "source": [
    "ones = np.ones((4, 4, 4, 4), dtype=int)\n",
    "\n",
    "# Print ones\n",
    "ones"
   ]
  },
  {
   "cell_type": "code",
   "execution_count": null,
   "id": "7aaf3b7b",
   "metadata": {},
   "outputs": [],
   "source": [
    "ones = np.ones((4, 4, 4), dtype=int)\n",
    "\n",
    "# Print ones\n",
    "ones"
   ]
  },
  {
   "cell_type": "code",
   "execution_count": null,
   "id": "276834b7",
   "metadata": {},
   "outputs": [],
   "source": [
    "ones = np.ones((4), dtype=int)\n",
    "\n",
    "# Print ones\n",
    "ones"
   ]
  },
  {
   "cell_type": "code",
   "execution_count": null,
   "id": "832d61e2",
   "metadata": {},
   "outputs": [],
   "source": [
    "ones = np.ones((4, 7), dtype=int)\n",
    "\n",
    "# Print ones\n",
    "ones"
   ]
  },
  {
   "cell_type": "code",
   "execution_count": null,
   "id": "cb61713b",
   "metadata": {},
   "outputs": [],
   "source": [
    "ones = np.ones((7, 7), dtype=int)\n",
    "\n",
    "# Print ones\n",
    "ones"
   ]
  },
  {
   "cell_type": "code",
   "execution_count": 80,
   "id": "08d3060b",
   "metadata": {},
   "outputs": [
    {
     "data": {
      "text/plain": [
       "(7, 7)"
      ]
     },
     "execution_count": 80,
     "metadata": {},
     "output_type": "execute_result"
    }
   ],
   "source": [
    "one_zero = np.array([[1, 0, 1, 0, 1, 0, 1],\n",
    "                     [0, 1, 0, 1, 0, 1, 0],\n",
    "                     [1, 0, 1, 0, 1, 0, 1],\n",
    "                     [0, 1, 0, 1, 0, 1, 0],\n",
    "                     [1, 0, 1, 0, 1, 0, 1],\n",
    "                     [0, 1, 0, 1, 0, 1, 0],\n",
    "                     [1, 0, 1, 0, 1, 0, 1]])\n",
    "one_zero.shape"
   ]
  },
  {
   "cell_type": "markdown",
   "id": "bb75a02f",
   "metadata": {},
   "source": [
    "Latihan 2\n",
    "---"
   ]
  },
  {
   "cell_type": "markdown",
   "id": "bcf97d41",
   "metadata": {},
   "source": [
    "1. Buatlah matriks dari list yang memiliki 4 baris dan 3 kolom"
   ]
  },
  {
   "cell_type": "code",
   "execution_count": 81,
   "id": "ab569148",
   "metadata": {},
   "outputs": [
    {
     "data": {
      "text/plain": [
       "array([[ 1,  2,  3],\n",
       "       [ 4,  5,  6],\n",
       "       [ 7,  8,  9],\n",
       "       [10, 11, 12]])"
      ]
     },
     "execution_count": 81,
     "metadata": {},
     "output_type": "execute_result"
    }
   ],
   "source": [
    "soal_matrix_1 = np.array([[1,2,3], \n",
    "                          [4,5,6], \n",
    "                          [7,8,9],\n",
    "                          [10,11,12]])\n",
    "soal_matrix_1"
   ]
  },
  {
   "cell_type": "markdown",
   "id": "61de6c35",
   "metadata": {},
   "source": [
    "2. Buatlah matrix berikut"
   ]
  },
  {
   "cell_type": "code",
   "execution_count": 83,
   "id": "e1e8b998",
   "metadata": {},
   "outputs": [
    {
     "data": {
      "text/plain": [
       "array([[1, 9, 0, 7],\n",
       "       [9, 8, 1, 9],\n",
       "       [2, 0, 2, 1]])"
      ]
     },
     "execution_count": 83,
     "metadata": {},
     "output_type": "execute_result"
    }
   ],
   "source": [
    "soal_matrix_2 = np.array([[1,9,0,7],\n",
    "                          [9,8,1,9],\n",
    "                          [2,0,2,1]])\n",
    "soal_matrix_2"
   ]
  },
  {
   "cell_type": "markdown",
   "id": "c3233ed3",
   "metadata": {},
   "source": [
    "3. Buatlah matrixm 2D dengan size 10"
   ]
  },
  {
   "cell_type": "code",
   "execution_count": 84,
   "id": "4f0be8a5",
   "metadata": {},
   "outputs": [
    {
     "data": {
      "text/plain": [
       "array([[ 1,  2,  3,  4,  5],\n",
       "       [ 6,  7,  8,  9, 10]])"
      ]
     },
     "execution_count": 84,
     "metadata": {},
     "output_type": "execute_result"
    }
   ],
   "source": [
    "cara_pertama = np.array([[1,2,3,4,5],\n",
    "                   [6,7,8,9,10]])\n",
    "cara_pertama"
   ]
  },
  {
   "cell_type": "code",
   "execution_count": 85,
   "id": "939994cb",
   "metadata": {},
   "outputs": [
    {
     "data": {
      "text/plain": [
       "array([[0., 0., 0., 0., 0.],\n",
       "       [0., 0., 0., 0., 0.]])"
      ]
     },
     "execution_count": 85,
     "metadata": {},
     "output_type": "execute_result"
    }
   ],
   "source": [
    "cara_kedua = np.zeros((2,5))\n",
    "cara_kedua"
   ]
  },
  {
   "cell_type": "code",
   "execution_count": 87,
   "id": "0c1b84ec",
   "metadata": {},
   "outputs": [
    {
     "data": {
      "text/plain": [
       "array([[ 1,  2],\n",
       "       [ 3,  4],\n",
       "       [ 5,  6],\n",
       "       [ 7,  8],\n",
       "       [ 9, 10]])"
      ]
     },
     "execution_count": 87,
     "metadata": {},
     "output_type": "execute_result"
    }
   ],
   "source": [
    "cara_ketiga = np.array([[1,2], \n",
    "                      [3,4],\n",
    "                      [5,6],\n",
    "                      [7,8],\n",
    "                      [9,10]])\n",
    "cara_ketiga"
   ]
  },
  {
   "cell_type": "code",
   "execution_count": 89,
   "id": "e166fbf3",
   "metadata": {},
   "outputs": [
    {
     "data": {
      "text/plain": [
       "array([[ 1],\n",
       "       [ 2],\n",
       "       [ 3],\n",
       "       [ 4],\n",
       "       [ 5],\n",
       "       [ 6],\n",
       "       [ 7],\n",
       "       [ 8],\n",
       "       [ 9],\n",
       "       [10]])"
      ]
     },
     "execution_count": 89,
     "metadata": {},
     "output_type": "execute_result"
    }
   ],
   "source": [
    "cara_keempat = np.array([[1],\n",
    "                       [2],\n",
    "                       [3],\n",
    "                       [4],\n",
    "                       [5],\n",
    "                       [6],\n",
    "                       [7],\n",
    "                       [8],\n",
    "                       [9],\n",
    "                       [10]])\n",
    "cara_keempat"
   ]
  },
  {
   "cell_type": "markdown",
   "id": "8b1d99c0",
   "metadata": {},
   "source": [
    "4. Buatlah matriks 3D yang memiliki 2 baris, 3 kolom, dan 3 dept"
   ]
  },
  {
   "cell_type": "code",
   "execution_count": 93,
   "id": "14b1e856",
   "metadata": {},
   "outputs": [
    {
     "data": {
      "text/plain": [
       "array([[[1, 2, 3],\n",
       "        [4, 5, 6],\n",
       "        [7, 8, 9]],\n",
       "\n",
       "       [[9, 8, 7],\n",
       "        [4, 5, 6],\n",
       "        [3, 2, 1]]])"
      ]
     },
     "execution_count": 93,
     "metadata": {},
     "output_type": "execute_result"
    }
   ],
   "source": [
    "soal_matrix_4 = np.array([[[1,2,3],\n",
    "                           [4,5,6],\n",
    "                           [7,8,9]],\n",
    "                          \n",
    "                          [[9,8,7],\n",
    "                           [4,5,6],\n",
    "                           [3,2,1]]])\n",
    "soal_matrix_4"
   ]
  },
  {
   "cell_type": "code",
   "execution_count": 94,
   "id": "5f449cad",
   "metadata": {},
   "outputs": [
    {
     "data": {
      "text/plain": [
       "(2, 3, 3)"
      ]
     },
     "execution_count": 94,
     "metadata": {},
     "output_type": "execute_result"
    }
   ],
   "source": [
    "soal_matrix_4.shape"
   ]
  },
  {
   "cell_type": "markdown",
   "id": "34840edc",
   "metadata": {},
   "source": [
    "5. Buatlah array berikut dari zero array dengan for loop"
   ]
  },
  {
   "cell_type": "code",
   "execution_count": 10,
   "id": "2e22a4de",
   "metadata": {},
   "outputs": [
    {
     "ename": "NameError",
     "evalue": "name 'np' is not defined",
     "output_type": "error",
     "traceback": [
      "\u001b[1;31m---------------------------------------------------------------------------\u001b[0m",
      "\u001b[1;31mNameError\u001b[0m                                 Traceback (most recent call last)",
      "\u001b[1;32m<ipython-input-10-2a90d7272aad>\u001b[0m in \u001b[0;36m<module>\u001b[1;34m\u001b[0m\n\u001b[1;32m----> 1\u001b[1;33m \u001b[0msoal_matrix_5\u001b[0m \u001b[1;33m=\u001b[0m \u001b[0mnp\u001b[0m\u001b[1;33m.\u001b[0m\u001b[0mzeros\u001b[0m\u001b[1;33m(\u001b[0m\u001b[1;33m(\u001b[0m\u001b[1;36m5\u001b[0m\u001b[1;33m,\u001b[0m\u001b[1;36m3\u001b[0m\u001b[1;33m)\u001b[0m\u001b[1;33m)\u001b[0m\u001b[1;33m\u001b[0m\u001b[1;33m\u001b[0m\u001b[0m\n\u001b[0m\u001b[0;32m      2\u001b[0m \u001b[0msoal_matrix_5\u001b[0m\u001b[1;33m\u001b[0m\u001b[1;33m\u001b[0m\u001b[0m\n",
      "\u001b[1;31mNameError\u001b[0m: name 'np' is not defined"
     ]
    }
   ],
   "source": [
    "soal_matrix_5 = np.zeros((5,3))\n",
    "soal_matrix_5"
   ]
  },
  {
   "cell_type": "code",
   "execution_count": 99,
   "id": "fb554da1",
   "metadata": {},
   "outputs": [
    {
     "name": "stdout",
     "output_type": "stream",
     "text": [
      "[9. 9. 9.]\n",
      "[9. 9. 9.]\n",
      "[9. 9. 9.]\n",
      "[9. 9. 9.]\n",
      "[9. 9. 9.]\n"
     ]
    }
   ],
   "source": [
    "for i in soal_matrix_5:\n",
    "    print(i+9)"
   ]
  },
  {
   "cell_type": "markdown",
   "id": "8cbbf1fa",
   "metadata": {},
   "source": [
    "Array-Generating Functions\n",
    "---"
   ]
  },
  {
   "cell_type": "markdown",
   "id": "f0707dc9",
   "metadata": {},
   "source": [
    "Untuk array yang lebih besar, tidak praktis menginisialisasi data secara manual menggunakan daftar python eksplisit. Sebagai gantinya kita dapat menggunakan salah satu dari banyak fungsi di numpy yang menghasilkan array dari berbagai bentuk seperti:"
   ]
  },
  {
   "cell_type": "markdown",
   "id": "22d5ba66",
   "metadata": {},
   "source": [
    "Range\n",
    "--"
   ]
  },
  {
   "cell_type": "code",
   "execution_count": 21,
   "id": "f804fd8c",
   "metadata": {},
   "outputs": [
    {
     "data": {
      "text/plain": [
       "array([0, 1, 2, 3, 4, 5, 6, 7, 8, 9])"
      ]
     },
     "execution_count": 21,
     "metadata": {},
     "output_type": "execute_result"
    }
   ],
   "source": [
    "# Membuat range\n",
    "x = np.arange(10)\n",
    "\n",
    "x"
   ]
  },
  {
   "cell_type": "code",
   "execution_count": 101,
   "id": "6e752372",
   "metadata": {},
   "outputs": [
    {
     "name": "stdout",
     "output_type": "stream",
     "text": [
      "0\n",
      "1\n",
      "2\n",
      "3\n",
      "4\n",
      "5\n",
      "6\n",
      "7\n",
      "8\n",
      "9\n"
     ]
    }
   ],
   "source": [
    "for i in range(10):\n",
    "    print(i)"
   ]
  },
  {
   "cell_type": "markdown",
   "id": "9be01b38",
   "metadata": {},
   "source": [
    "Contoh"
   ]
  },
  {
   "cell_type": "code",
   "execution_count": 106,
   "id": "8a153551",
   "metadata": {},
   "outputs": [
    {
     "data": {
      "text/plain": [
       "array([10, 11, 12, 13, 14, 15, 16, 17, 18, 19, 20, 21, 22, 23, 24, 25, 26,\n",
       "       27, 28, 29, 30, 31, 32, 33, 34, 35, 36, 37, 38, 39])"
      ]
     },
     "execution_count": 106,
     "metadata": {},
     "output_type": "execute_result"
    }
   ],
   "source": [
    "x = np.arange(10, 40) # arguments: start, stop\n",
    "\n",
    "x"
   ]
  },
  {
   "cell_type": "code",
   "execution_count": 107,
   "id": "7a03a1a9",
   "metadata": {},
   "outputs": [
    {
     "data": {
      "text/plain": [
       "array([10, 14, 18, 22, 26, 30, 34, 38])"
      ]
     },
     "execution_count": 107,
     "metadata": {},
     "output_type": "execute_result"
    }
   ],
   "source": [
    "x = np.arange(10, 40, 4) # arguments: start, stop, step\n",
    "\n",
    "x"
   ]
  },
  {
   "cell_type": "code",
   "execution_count": 9,
   "id": "0885be04",
   "metadata": {},
   "outputs": [
    {
     "ename": "NameError",
     "evalue": "name 'np' is not defined",
     "output_type": "error",
     "traceback": [
      "\u001b[1;31m---------------------------------------------------------------------------\u001b[0m",
      "\u001b[1;31mNameError\u001b[0m                                 Traceback (most recent call last)",
      "\u001b[1;32m<ipython-input-9-bad88f6fe604>\u001b[0m in \u001b[0;36m<module>\u001b[1;34m\u001b[0m\n\u001b[1;32m----> 1\u001b[1;33m \u001b[0mx\u001b[0m \u001b[1;33m=\u001b[0m \u001b[0mnp\u001b[0m\u001b[1;33m.\u001b[0m\u001b[0marange\u001b[0m\u001b[1;33m(\u001b[0m\u001b[1;33m-\u001b[0m\u001b[1;36m1\u001b[0m\u001b[1;33m,\u001b[0m \u001b[1;36m1\u001b[0m\u001b[1;33m,\u001b[0m \u001b[1;36m0.1\u001b[0m\u001b[1;33m)\u001b[0m\u001b[1;33m\u001b[0m\u001b[1;33m\u001b[0m\u001b[0m\n\u001b[0m\u001b[0;32m      2\u001b[0m \u001b[1;33m\u001b[0m\u001b[0m\n\u001b[0;32m      3\u001b[0m \u001b[0mx\u001b[0m\u001b[1;33m\u001b[0m\u001b[1;33m\u001b[0m\u001b[0m\n",
      "\u001b[1;31mNameError\u001b[0m: name 'np' is not defined"
     ]
    }
   ],
   "source": [
    "x = np.arange(-1, 1, 0.1)\n",
    "\n",
    "x"
   ]
  },
  {
   "cell_type": "markdown",
   "id": "bed4e76d",
   "metadata": {},
   "source": [
    "Angka 9.00000000e-01 sudah merupakan angka floating point. Ini ditulis dalam notasi ilmiah dan setara dengan 9 * 10**-1 atau 0,9."
   ]
  },
  {
   "cell_type": "markdown",
   "id": "1bfb0dc7",
   "metadata": {},
   "source": [
    "Linspace\n",
    "--"
   ]
  },
  {
   "cell_type": "code",
   "execution_count": 108,
   "id": "9521fe3a",
   "metadata": {},
   "outputs": [
    {
     "data": {
      "text/plain": [
       "array([ 0.        ,  1.11111111,  2.22222222,  3.33333333,  4.44444444,\n",
       "        5.55555556,  6.66666667,  7.77777778,  8.88888889, 10.        ])"
      ]
     },
     "execution_count": 108,
     "metadata": {},
     "output_type": "execute_result"
    }
   ],
   "source": [
    "# Dalam menggunakan linspace, kedua titik akhir disertakan\n",
    "np.linspace(0, 10, 10) #Tidak seperti range yang menggunakan step, linspace menggunakan jumlah sample"
   ]
  },
  {
   "cell_type": "markdown",
   "id": "a280f582",
   "metadata": {},
   "source": [
    "Random Data\n",
    "--"
   ]
  },
  {
   "cell_type": "code",
   "execution_count": 16,
   "id": "7b2e6f2c",
   "metadata": {},
   "outputs": [],
   "source": [
    "from numpy import random"
   ]
  },
  {
   "cell_type": "code",
   "execution_count": 8,
   "id": "e4293faa",
   "metadata": {},
   "outputs": [
    {
     "ename": "NameError",
     "evalue": "name 'random' is not defined",
     "output_type": "error",
     "traceback": [
      "\u001b[1;31m---------------------------------------------------------------------------\u001b[0m",
      "\u001b[1;31mNameError\u001b[0m                                 Traceback (most recent call last)",
      "\u001b[1;32m<ipython-input-8-ce80f456138f>\u001b[0m in \u001b[0;36m<module>\u001b[1;34m\u001b[0m\n\u001b[0;32m      1\u001b[0m \u001b[1;31m#Bilangan acak seragam [0,1]\u001b[0m\u001b[1;33m\u001b[0m\u001b[1;33m\u001b[0m\u001b[1;33m\u001b[0m\u001b[0m\n\u001b[1;32m----> 2\u001b[1;33m \u001b[0mrandom\u001b[0m\u001b[1;33m.\u001b[0m \u001b[0mrand\u001b[0m\u001b[1;33m(\u001b[0m\u001b[1;36m5\u001b[0m\u001b[1;33m,\u001b[0m\u001b[1;36m5\u001b[0m\u001b[1;33m)\u001b[0m\u001b[1;33m\u001b[0m\u001b[1;33m\u001b[0m\u001b[0m\n\u001b[0m",
      "\u001b[1;31mNameError\u001b[0m: name 'random' is not defined"
     ]
    }
   ],
   "source": [
    "#Bilangan acak seragam [0,1]\n",
    "random. rand(5,5)"
   ]
  },
  {
   "cell_type": "code",
   "execution_count": 112,
   "id": "151cbd07",
   "metadata": {},
   "outputs": [
    {
     "data": {
      "text/plain": [
       "array([[ 0.65366227, -0.92935042,  1.04333244,  0.39170426,  1.80021414],\n",
       "       [-2.54068824, -1.97424567, -0.02942376,  0.06865831,  1.24886898],\n",
       "       [-0.73829077, -0.74664403,  0.05606778, -0.33146945, -0.42873709],\n",
       "       [-0.7237869 , -0.55747699, -0.95744178,  0.77748701,  0.16893674],\n",
       "       [-0.01348923, -0.86215583,  0.46264889, -0.34656497, -1.20660574]])"
      ]
     },
     "execution_count": 112,
     "metadata": {},
     "output_type": "execute_result"
    }
   ],
   "source": [
    "# bilangan acak terdistribusi normal standar\n",
    "x = random.randn(5,5)\n",
    "x"
   ]
  },
  {
   "cell_type": "code",
   "execution_count": 113,
   "id": "e8db69ff",
   "metadata": {},
   "outputs": [
    {
     "data": {
      "text/plain": [
       "dtype('float64')"
      ]
     },
     "execution_count": 113,
     "metadata": {},
     "output_type": "execute_result"
    }
   ],
   "source": [
    "x.dtype"
   ]
  },
  {
   "cell_type": "code",
   "execution_count": 115,
   "id": "cae6db9c",
   "metadata": {},
   "outputs": [
    {
     "data": {
      "text/plain": [
       "array([1, 1], dtype=int64)"
      ]
     },
     "execution_count": 115,
     "metadata": {},
     "output_type": "execute_result"
    }
   ],
   "source": [
    "x = np.ones(2, dtype = np.int64)\n",
    "x"
   ]
  },
  {
   "cell_type": "code",
   "execution_count": 116,
   "id": "8d028c07",
   "metadata": {},
   "outputs": [
    {
     "data": {
      "text/plain": [
       "0"
      ]
     },
     "execution_count": 116,
     "metadata": {},
     "output_type": "execute_result"
    }
   ],
   "source": [
    "random.randint(10)"
   ]
  },
  {
   "cell_type": "code",
   "execution_count": 5,
   "id": "1b013108",
   "metadata": {},
   "outputs": [
    {
     "ename": "NameError",
     "evalue": "name 'random' is not defined",
     "output_type": "error",
     "traceback": [
      "\u001b[1;31m---------------------------------------------------------------------------\u001b[0m",
      "\u001b[1;31mNameError\u001b[0m                                 Traceback (most recent call last)",
      "\u001b[1;32m<ipython-input-5-df69c14442f5>\u001b[0m in \u001b[0;36m<module>\u001b[1;34m\u001b[0m\n\u001b[1;32m----> 1\u001b[1;33m \u001b[0mrandom\u001b[0m\u001b[1;33m.\u001b[0m\u001b[0mrandint\u001b[0m\u001b[1;33m(\u001b[0m\u001b[1;36m2\u001b[0m\u001b[1;33m,\u001b[0m \u001b[1;36m10\u001b[0m\u001b[1;33m,\u001b[0m \u001b[0msize\u001b[0m\u001b[1;33m=\u001b[0m\u001b[1;36m4\u001b[0m\u001b[1;33m)\u001b[0m\u001b[1;33m\u001b[0m\u001b[1;33m\u001b[0m\u001b[0m\n\u001b[0m",
      "\u001b[1;31mNameError\u001b[0m: name 'random' is not defined"
     ]
    }
   ],
   "source": [
    "random.randint(2, 10, size=4)"
   ]
  },
  {
   "cell_type": "code",
   "execution_count": 20,
   "id": "7a47f788",
   "metadata": {},
   "outputs": [
    {
     "data": {
      "text/plain": [
       "array([[[4, 8],\n",
       "        [7, 6]],\n",
       "\n",
       "       [[5, 5],\n",
       "        [2, 5]],\n",
       "\n",
       "       [[2, 8],\n",
       "        [6, 5]],\n",
       "\n",
       "       [[7, 7],\n",
       "        [5, 7]]])"
      ]
     },
     "execution_count": 20,
     "metadata": {},
     "output_type": "execute_result"
    }
   ],
   "source": [
    "random.randint(2, 10, size=(4,2,2))"
   ]
  },
  {
   "cell_type": "markdown",
   "id": "b26f7a7b",
   "metadata": {},
   "source": [
    "Latihan 3\n",
    "---"
   ]
  },
  {
   "cell_type": "markdown",
   "id": "f595c3fd",
   "metadata": {},
   "source": [
    "1. Buatlah array 1-D yang berisi 5 bilangan bulat acak dari 0 hingga 100:"
   ]
  },
  {
   "cell_type": "code",
   "execution_count": 19,
   "id": "d7ad6325",
   "metadata": {},
   "outputs": [
    {
     "data": {
      "text/plain": [
       "array([35, 12, 97, 51, 85])"
      ]
     },
     "execution_count": 19,
     "metadata": {},
     "output_type": "execute_result"
    }
   ],
   "source": [
    "random.randint(0,100, size=5)"
   ]
  },
  {
   "cell_type": "code",
   "execution_count": null,
   "id": "173bf77a",
   "metadata": {},
   "outputs": [],
   "source": [
    "2. Buatlah array 2-D dengan 3 baris, setiap baris berisi 5 bilangan bulat acak dari 0 hingga 100"
   ]
  },
  {
   "cell_type": "code",
   "execution_count": 18,
   "id": "b1f56d5f",
   "metadata": {},
   "outputs": [
    {
     "data": {
      "text/plain": [
       "array([[71, 14, 87, 65,  0],\n",
       "       [27, 27, 79, 92, 96],\n",
       "       [ 0, 47, 68, 33, 53],\n",
       "       [54, 92,  5, 29, 90],\n",
       "       [95, 93, 52, 63, 38]])"
      ]
     },
     "execution_count": 18,
     "metadata": {},
     "output_type": "execute_result"
    }
   ],
   "source": [
    "random.randint(0, 100, size=(5,5))"
   ]
  },
  {
   "cell_type": "code",
   "execution_count": 23,
   "id": "543f68d0",
   "metadata": {},
   "outputs": [
    {
     "data": {
      "text/plain": [
       "array([10, 14, 18, 22, 26, 30, 34, 38])"
      ]
     },
     "execution_count": 23,
     "metadata": {},
     "output_type": "execute_result"
    }
   ],
   "source": [
    "x"
   ]
  }
 ],
 "metadata": {
  "kernelspec": {
   "display_name": "Python 3",
   "language": "python",
   "name": "python3"
  },
  "language_info": {
   "codemirror_mode": {
    "name": "ipython",
    "version": 3
   },
   "file_extension": ".py",
   "mimetype": "text/x-python",
   "name": "python",
   "nbconvert_exporter": "python",
   "pygments_lexer": "ipython3",
   "version": "3.8.8"
  }
 },
 "nbformat": 4,
 "nbformat_minor": 5
}
