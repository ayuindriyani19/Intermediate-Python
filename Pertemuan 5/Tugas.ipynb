{
 "cells": [
  {
   "cell_type": "code",
   "execution_count": 5,
   "id": "55322197",
   "metadata": {
    "id": "55322197"
   },
   "outputs": [],
   "source": [
    "import pandas as pd\n",
    "import numpy as np\n",
    "import matplotlib.pyplot as plt"
   ]
  },
  {
   "cell_type": "code",
   "execution_count": 4,
   "id": "b1e3a7b1",
   "metadata": {
    "id": "b1e3a7b1",
    "outputId": "a9a55ef5-848f-409e-c54a-44cb1d8c80ba"
   },
   "outputs": [
    {
     "name": "stdout",
     "output_type": "stream",
     "text": [
      "<class 'pandas.core.frame.DataFrame'>\n",
      "RangeIndex: 59 entries, 0 to 58\n",
      "Data columns (total 5 columns):\n",
      " #   Column                                Non-Null Count  Dtype         \n",
      "---  ------                                --------------  -----         \n",
      " 0   Date                                  59 non-null     datetime64[ns]\n",
      " 1   Avila Adobe                           59 non-null     int64         \n",
      " 2   Firehouse Museum                      59 non-null     int64         \n",
      " 3   Chinese American Museum               59 non-null     int64         \n",
      " 4   America Tropical Interpretive Center  59 non-null     int64         \n",
      "dtypes: datetime64[ns](1), int64(4)\n",
      "memory usage: 2.4 KB\n"
     ]
    }
   ],
   "source": [
    "#data\n",
    "df = pd.read_csv('museum_visitors.csv')\n",
    "df['Date'] = pd.to_datetime(df['Date'])\n",
    "df.info()"
   ]
  },
  {
   "cell_type": "code",
   "execution_count": 6,
   "id": "3cf7ba19",
   "metadata": {
    "id": "3cf7ba19",
    "outputId": "e112db09-4bfb-446f-b0af-0233812f0490"
   },
   "outputs": [
    {
     "data": {
      "text/html": [
       "<div>\n",
       "<style scoped>\n",
       "    .dataframe tbody tr th:only-of-type {\n",
       "        vertical-align: middle;\n",
       "    }\n",
       "\n",
       "    .dataframe tbody tr th {\n",
       "        vertical-align: top;\n",
       "    }\n",
       "\n",
       "    .dataframe thead th {\n",
       "        text-align: right;\n",
       "    }\n",
       "</style>\n",
       "<table border=\"1\" class=\"dataframe\">\n",
       "  <thead>\n",
       "    <tr style=\"text-align: right;\">\n",
       "      <th></th>\n",
       "      <th>Visitors</th>\n",
       "      <th>Date</th>\n",
       "    </tr>\n",
       "    <tr>\n",
       "      <th>Date</th>\n",
       "      <th></th>\n",
       "      <th></th>\n",
       "    </tr>\n",
       "  </thead>\n",
       "  <tbody>\n",
       "    <tr>\n",
       "      <th>2014</th>\n",
       "      <td>333315</td>\n",
       "      <td>2014</td>\n",
       "    </tr>\n",
       "    <tr>\n",
       "      <th>2015</th>\n",
       "      <td>317517</td>\n",
       "      <td>2015</td>\n",
       "    </tr>\n",
       "    <tr>\n",
       "      <th>2016</th>\n",
       "      <td>280784</td>\n",
       "      <td>2016</td>\n",
       "    </tr>\n",
       "    <tr>\n",
       "      <th>2017</th>\n",
       "      <td>270314</td>\n",
       "      <td>2017</td>\n",
       "    </tr>\n",
       "    <tr>\n",
       "      <th>2018</th>\n",
       "      <td>217708</td>\n",
       "      <td>2018</td>\n",
       "    </tr>\n",
       "  </tbody>\n",
       "</table>\n",
       "</div>"
      ],
      "text/plain": [
       "      Visitors  Date\n",
       "Date                \n",
       "2014    333315  2014\n",
       "2015    317517  2015\n",
       "2016    280784  2016\n",
       "2017    270314  2017\n",
       "2018    217708  2018"
      ]
     },
     "execution_count": 6,
     "metadata": {},
     "output_type": "execute_result"
    }
   ],
   "source": [
    "#Avila Adobe\n",
    "avila_adobe = (df.groupby(df['Date'].dt.strftime('%Y'))['Avila Adobe'].sum())\n",
    "avila_adobe = avila_adobe.to_frame()\n",
    "avila_adobe['Date'] = avila_adobe.index\n",
    "avila_adobe = avila_adobe.rename(columns={'Avila Adobe':'Visitors'})\n",
    "avila_adobe"
   ]
  },
  {
   "cell_type": "code",
   "execution_count": 7,
   "id": "3d5589b0",
   "metadata": {
    "id": "3d5589b0",
    "outputId": "5d4fc0ad-e770-4c72-8caf-744b6025b331"
   },
   "outputs": [
    {
     "data": {
      "text/html": [
       "<div>\n",
       "<style scoped>\n",
       "    .dataframe tbody tr th:only-of-type {\n",
       "        vertical-align: middle;\n",
       "    }\n",
       "\n",
       "    .dataframe tbody tr th {\n",
       "        vertical-align: top;\n",
       "    }\n",
       "\n",
       "    .dataframe thead th {\n",
       "        text-align: right;\n",
       "    }\n",
       "</style>\n",
       "<table border=\"1\" class=\"dataframe\">\n",
       "  <thead>\n",
       "    <tr style=\"text-align: right;\">\n",
       "      <th></th>\n",
       "      <th>Visitors</th>\n",
       "      <th>Date</th>\n",
       "    </tr>\n",
       "    <tr>\n",
       "      <th>Date</th>\n",
       "      <th></th>\n",
       "      <th></th>\n",
       "    </tr>\n",
       "  </thead>\n",
       "  <tbody>\n",
       "    <tr>\n",
       "      <th>2014</th>\n",
       "      <td>129338</td>\n",
       "      <td>2014</td>\n",
       "    </tr>\n",
       "    <tr>\n",
       "      <th>2015</th>\n",
       "      <td>75367</td>\n",
       "      <td>2015</td>\n",
       "    </tr>\n",
       "    <tr>\n",
       "      <th>2016</th>\n",
       "      <td>64633</td>\n",
       "      <td>2016</td>\n",
       "    </tr>\n",
       "    <tr>\n",
       "      <th>2017</th>\n",
       "      <td>60218</td>\n",
       "      <td>2017</td>\n",
       "    </tr>\n",
       "    <tr>\n",
       "      <th>2018</th>\n",
       "      <td>52341</td>\n",
       "      <td>2018</td>\n",
       "    </tr>\n",
       "  </tbody>\n",
       "</table>\n",
       "</div>"
      ],
      "text/plain": [
       "      Visitors  Date\n",
       "Date                \n",
       "2014    129338  2014\n",
       "2015     75367  2015\n",
       "2016     64633  2016\n",
       "2017     60218  2017\n",
       "2018     52341  2018"
      ]
     },
     "execution_count": 7,
     "metadata": {},
     "output_type": "execute_result"
    }
   ],
   "source": [
    "#Firehouse Museum\n",
    "firehouse_museum = (df.groupby(df['Date'].dt.strftime('%Y'))['Firehouse Museum'].sum())\n",
    "firehouse_museum = firehouse_museum.to_frame()\n",
    "firehouse_museum['Date'] = firehouse_museum.index\n",
    "firehouse_museum = firehouse_museum.rename(columns={'Firehouse Museum':'Visitors'})\n",
    "firehouse_museum"
   ]
  },
  {
   "cell_type": "code",
   "execution_count": 8,
   "id": "53d420db",
   "metadata": {
    "id": "53d420db",
    "outputId": "aeeb36a8-5fab-4f93-d9f0-c969da2174cc"
   },
   "outputs": [
    {
     "data": {
      "text/html": [
       "<div>\n",
       "<style scoped>\n",
       "    .dataframe tbody tr th:only-of-type {\n",
       "        vertical-align: middle;\n",
       "    }\n",
       "\n",
       "    .dataframe tbody tr th {\n",
       "        vertical-align: top;\n",
       "    }\n",
       "\n",
       "    .dataframe thead th {\n",
       "        text-align: right;\n",
       "    }\n",
       "</style>\n",
       "<table border=\"1\" class=\"dataframe\">\n",
       "  <thead>\n",
       "    <tr style=\"text-align: right;\">\n",
       "      <th></th>\n",
       "      <th>Visitors</th>\n",
       "      <th>Date</th>\n",
       "    </tr>\n",
       "    <tr>\n",
       "      <th>Date</th>\n",
       "      <th></th>\n",
       "      <th></th>\n",
       "    </tr>\n",
       "  </thead>\n",
       "  <tbody>\n",
       "    <tr>\n",
       "      <th>2014</th>\n",
       "      <td>25304</td>\n",
       "      <td>2014</td>\n",
       "    </tr>\n",
       "    <tr>\n",
       "      <th>2015</th>\n",
       "      <td>29359</td>\n",
       "      <td>2015</td>\n",
       "    </tr>\n",
       "    <tr>\n",
       "      <th>2016</th>\n",
       "      <td>37284</td>\n",
       "      <td>2016</td>\n",
       "    </tr>\n",
       "    <tr>\n",
       "      <th>2017</th>\n",
       "      <td>36739</td>\n",
       "      <td>2017</td>\n",
       "    </tr>\n",
       "    <tr>\n",
       "      <th>2018</th>\n",
       "      <td>31868</td>\n",
       "      <td>2018</td>\n",
       "    </tr>\n",
       "  </tbody>\n",
       "</table>\n",
       "</div>"
      ],
      "text/plain": [
       "      Visitors  Date\n",
       "Date                \n",
       "2014     25304  2014\n",
       "2015     29359  2015\n",
       "2016     37284  2016\n",
       "2017     36739  2017\n",
       "2018     31868  2018"
      ]
     },
     "execution_count": 8,
     "metadata": {},
     "output_type": "execute_result"
    }
   ],
   "source": [
    "#Chinese American Museum\n",
    "ca_museum = (df.groupby(df['Date'].dt.strftime('%Y'))['Chinese American Museum'].sum())\n",
    "ca_museum = ca_museum.to_frame()\n",
    "ca_museum['Date'] = ca_museum.index\n",
    "ca_museum = ca_museum.rename(columns={'Chinese American Museum':'Visitors'})\n",
    "ca_museum"
   ]
  },
  {
   "cell_type": "code",
   "execution_count": 9,
   "id": "120abdff",
   "metadata": {
    "id": "120abdff"
   },
   "outputs": [],
   "source": [
    "#Total Visitor Dataframe\n",
    "tv_adobe = avila_adobe['Visitors']\n",
    "tv_firehouse = firehouse_museum['Visitors']\n",
    "tv_ca = ca_museum['Visitors']"
   ]
  },
  {
   "cell_type": "code",
   "execution_count": 10,
   "id": "d0f66585",
   "metadata": {
    "id": "d0f66585"
   },
   "outputs": [
    {
     "data": {
      "text/html": [
       "<div>\n",
       "<style scoped>\n",
       "    .dataframe tbody tr th:only-of-type {\n",
       "        vertical-align: middle;\n",
       "    }\n",
       "\n",
       "    .dataframe tbody tr th {\n",
       "        vertical-align: top;\n",
       "    }\n",
       "\n",
       "    .dataframe thead th {\n",
       "        text-align: right;\n",
       "    }\n",
       "</style>\n",
       "<table border=\"1\" class=\"dataframe\">\n",
       "  <thead>\n",
       "    <tr style=\"text-align: right;\">\n",
       "      <th></th>\n",
       "      <th>Avila Adobe Visitors</th>\n",
       "    </tr>\n",
       "    <tr>\n",
       "      <th>Date</th>\n",
       "      <th></th>\n",
       "    </tr>\n",
       "  </thead>\n",
       "  <tbody>\n",
       "    <tr>\n",
       "      <th>2014</th>\n",
       "      <td>333315</td>\n",
       "    </tr>\n",
       "    <tr>\n",
       "      <th>2015</th>\n",
       "      <td>317517</td>\n",
       "    </tr>\n",
       "    <tr>\n",
       "      <th>2016</th>\n",
       "      <td>280784</td>\n",
       "    </tr>\n",
       "    <tr>\n",
       "      <th>2017</th>\n",
       "      <td>270314</td>\n",
       "    </tr>\n",
       "    <tr>\n",
       "      <th>2018</th>\n",
       "      <td>217708</td>\n",
       "    </tr>\n",
       "  </tbody>\n",
       "</table>\n",
       "</div>"
      ],
      "text/plain": [
       "      Avila Adobe Visitors\n",
       "Date                      \n",
       "2014                333315\n",
       "2015                317517\n",
       "2016                280784\n",
       "2017                270314\n",
       "2018                217708"
      ]
     },
     "execution_count": 10,
     "metadata": {},
     "output_type": "execute_result"
    }
   ],
   "source": [
    "#Checking Dataframe - Avila Adobe\n",
    "tv_adobe = tv_adobe.to_frame()\n",
    "tv_adobe = tv_adobe.rename(columns={'Visitors':'Avila Adobe Visitors'})\n",
    "tv_adobe"
   ]
  },
  {
   "cell_type": "code",
   "execution_count": 11,
   "id": "b437cd2c",
   "metadata": {
    "id": "b437cd2c"
   },
   "outputs": [
    {
     "data": {
      "text/html": [
       "<div>\n",
       "<style scoped>\n",
       "    .dataframe tbody tr th:only-of-type {\n",
       "        vertical-align: middle;\n",
       "    }\n",
       "\n",
       "    .dataframe tbody tr th {\n",
       "        vertical-align: top;\n",
       "    }\n",
       "\n",
       "    .dataframe thead th {\n",
       "        text-align: right;\n",
       "    }\n",
       "</style>\n",
       "<table border=\"1\" class=\"dataframe\">\n",
       "  <thead>\n",
       "    <tr style=\"text-align: right;\">\n",
       "      <th></th>\n",
       "      <th>Firehouse Museum Visitors</th>\n",
       "    </tr>\n",
       "    <tr>\n",
       "      <th>Date</th>\n",
       "      <th></th>\n",
       "    </tr>\n",
       "  </thead>\n",
       "  <tbody>\n",
       "    <tr>\n",
       "      <th>2014</th>\n",
       "      <td>129338</td>\n",
       "    </tr>\n",
       "    <tr>\n",
       "      <th>2015</th>\n",
       "      <td>75367</td>\n",
       "    </tr>\n",
       "    <tr>\n",
       "      <th>2016</th>\n",
       "      <td>64633</td>\n",
       "    </tr>\n",
       "    <tr>\n",
       "      <th>2017</th>\n",
       "      <td>60218</td>\n",
       "    </tr>\n",
       "    <tr>\n",
       "      <th>2018</th>\n",
       "      <td>52341</td>\n",
       "    </tr>\n",
       "  </tbody>\n",
       "</table>\n",
       "</div>"
      ],
      "text/plain": [
       "      Firehouse Museum Visitors\n",
       "Date                           \n",
       "2014                     129338\n",
       "2015                      75367\n",
       "2016                      64633\n",
       "2017                      60218\n",
       "2018                      52341"
      ]
     },
     "execution_count": 11,
     "metadata": {},
     "output_type": "execute_result"
    }
   ],
   "source": [
    "#Checking Dataframe - Firehouse\n",
    "tv_firehouse = tv_firehouse.to_frame()\n",
    "tv_firehouse = tv_firehouse.rename(columns={'Visitors':'Firehouse Museum Visitors'})\n",
    "tv_firehouse"
   ]
  },
  {
   "cell_type": "code",
   "execution_count": 12,
   "id": "522f4cae",
   "metadata": {
    "id": "522f4cae"
   },
   "outputs": [
    {
     "data": {
      "text/html": [
       "<div>\n",
       "<style scoped>\n",
       "    .dataframe tbody tr th:only-of-type {\n",
       "        vertical-align: middle;\n",
       "    }\n",
       "\n",
       "    .dataframe tbody tr th {\n",
       "        vertical-align: top;\n",
       "    }\n",
       "\n",
       "    .dataframe thead th {\n",
       "        text-align: right;\n",
       "    }\n",
       "</style>\n",
       "<table border=\"1\" class=\"dataframe\">\n",
       "  <thead>\n",
       "    <tr style=\"text-align: right;\">\n",
       "      <th></th>\n",
       "      <th>Chinese American Visitors</th>\n",
       "    </tr>\n",
       "    <tr>\n",
       "      <th>Date</th>\n",
       "      <th></th>\n",
       "    </tr>\n",
       "  </thead>\n",
       "  <tbody>\n",
       "    <tr>\n",
       "      <th>2014</th>\n",
       "      <td>25304</td>\n",
       "    </tr>\n",
       "    <tr>\n",
       "      <th>2015</th>\n",
       "      <td>29359</td>\n",
       "    </tr>\n",
       "    <tr>\n",
       "      <th>2016</th>\n",
       "      <td>37284</td>\n",
       "    </tr>\n",
       "    <tr>\n",
       "      <th>2017</th>\n",
       "      <td>36739</td>\n",
       "    </tr>\n",
       "    <tr>\n",
       "      <th>2018</th>\n",
       "      <td>31868</td>\n",
       "    </tr>\n",
       "  </tbody>\n",
       "</table>\n",
       "</div>"
      ],
      "text/plain": [
       "      Chinese American Visitors\n",
       "Date                           \n",
       "2014                      25304\n",
       "2015                      29359\n",
       "2016                      37284\n",
       "2017                      36739\n",
       "2018                      31868"
      ]
     },
     "execution_count": 12,
     "metadata": {},
     "output_type": "execute_result"
    }
   ],
   "source": [
    "#Checking Dataframe - Chinese American\n",
    "tv_ca = tv_ca.to_frame()\n",
    "tv_ca = tv_ca.rename(columns={'Visitors':'Chinese American Visitors'})\n",
    "tv_ca"
   ]
  },
  {
   "cell_type": "code",
   "execution_count": 13,
   "id": "b48bc9e0",
   "metadata": {
    "id": "b48bc9e0"
   },
   "outputs": [
    {
     "data": {
      "text/html": [
       "<div>\n",
       "<style scoped>\n",
       "    .dataframe tbody tr th:only-of-type {\n",
       "        vertical-align: middle;\n",
       "    }\n",
       "\n",
       "    .dataframe tbody tr th {\n",
       "        vertical-align: top;\n",
       "    }\n",
       "\n",
       "    .dataframe thead th {\n",
       "        text-align: right;\n",
       "    }\n",
       "</style>\n",
       "<table border=\"1\" class=\"dataframe\">\n",
       "  <thead>\n",
       "    <tr style=\"text-align: right;\">\n",
       "      <th></th>\n",
       "      <th>Avila Adobe Visitors</th>\n",
       "      <th>Firehouse Museum Visitors</th>\n",
       "      <th>Chinese American Visitors</th>\n",
       "      <th>Date</th>\n",
       "    </tr>\n",
       "    <tr>\n",
       "      <th>Date</th>\n",
       "      <th></th>\n",
       "      <th></th>\n",
       "      <th></th>\n",
       "      <th></th>\n",
       "    </tr>\n",
       "  </thead>\n",
       "  <tbody>\n",
       "    <tr>\n",
       "      <th>2014</th>\n",
       "      <td>333315</td>\n",
       "      <td>129338</td>\n",
       "      <td>25304</td>\n",
       "      <td>2014</td>\n",
       "    </tr>\n",
       "    <tr>\n",
       "      <th>2015</th>\n",
       "      <td>317517</td>\n",
       "      <td>75367</td>\n",
       "      <td>29359</td>\n",
       "      <td>2015</td>\n",
       "    </tr>\n",
       "    <tr>\n",
       "      <th>2016</th>\n",
       "      <td>280784</td>\n",
       "      <td>64633</td>\n",
       "      <td>37284</td>\n",
       "      <td>2016</td>\n",
       "    </tr>\n",
       "    <tr>\n",
       "      <th>2017</th>\n",
       "      <td>270314</td>\n",
       "      <td>60218</td>\n",
       "      <td>36739</td>\n",
       "      <td>2017</td>\n",
       "    </tr>\n",
       "    <tr>\n",
       "      <th>2018</th>\n",
       "      <td>217708</td>\n",
       "      <td>52341</td>\n",
       "      <td>31868</td>\n",
       "      <td>2018</td>\n",
       "    </tr>\n",
       "  </tbody>\n",
       "</table>\n",
       "</div>"
      ],
      "text/plain": [
       "      Avila Adobe Visitors  Firehouse Museum Visitors  \\\n",
       "Date                                                    \n",
       "2014                333315                     129338   \n",
       "2015                317517                      75367   \n",
       "2016                280784                      64633   \n",
       "2017                270314                      60218   \n",
       "2018                217708                      52341   \n",
       "\n",
       "      Chinese American Visitors  Date  \n",
       "Date                                   \n",
       "2014                      25304  2014  \n",
       "2015                      29359  2015  \n",
       "2016                      37284  2016  \n",
       "2017                      36739  2017  \n",
       "2018                      31868  2018  "
      ]
     },
     "execution_count": 13,
     "metadata": {},
     "output_type": "execute_result"
    }
   ],
   "source": [
    "#merging\n",
    "total_visitors = pd.concat([tv_adobe, tv_firehouse, tv_ca], axis=1)\n",
    "total_visitors['Date'] = total_visitors.index\n",
    "total_visitors"
   ]
  },
  {
   "cell_type": "code",
   "execution_count": 14,
   "id": "3a083edc",
   "metadata": {
    "id": "3a083edc",
    "outputId": "7c754b00-2e17-493e-c62e-a764b870fa86"
   },
   "outputs": [
    {
     "data": {
      "image/png": "[encoded data removed]",
      "text/plain": [
       "<Figure size 576x1440 with 4 Axes>"
      ]
     },
     "metadata": {
      "needs_background": "light"
     },
     "output_type": "display_data"
    }
   ],
   "source": [
    "#style\n",
    "plt.style.use('seaborn-bright')\n",
    "\n",
    "#figure\n",
    "fig, (ax1, ax2, ax3, ax4) = plt.subplots(nrows=4, ncols=1, figsize=(8,20))\n",
    "\n",
    "\n",
    "#plot\n",
    "ax1.plot(avila_adobe['Date'], avila_adobe['Visitors'], \n",
    "         label='Avila Adobe', color='#FF6701', linewidth=2, marker='o')\n",
    "\n",
    "ax2.plot(firehouse_museum['Date'], firehouse_museum['Visitors'], \n",
    "         label='Firehouse Museum', color='#293B5F', linewidth=2, marker='o')\n",
    "\n",
    "ax3.plot(ca_museum['Date'], ca_museum['Visitors'], \n",
    "         label='Chinese American Museum', color='#1E6F5C', linewidth=2, marker='o')\n",
    "\n",
    "ax4.bar(total_visitors['Date'], total_visitors['Avila Adobe Visitors'], \n",
    "        color='#FF6701', label = 'Avila Adobe')\n",
    "\n",
    "ax4.bar(total_visitors['Date'], total_visitors['Firehouse Museum Visitors'], \n",
    "        color='#FEA82F', label = 'Firehouse Museum')\n",
    "\n",
    "ax4.bar(total_visitors['Date'], total_visitors['Chinese American Visitors'], \n",
    "        color='#FFC288', label = 'Chinese American Museum')\n",
    "\n",
    "#Avila Adobe\n",
    "ax1.legend()\n",
    "ax1.set_title('Avila Adobe Visitors', fontweight='bold')\n",
    "ax1.set_xlabel('Age', fontweight='bold')\n",
    "ax1.set_ylabel('Visitors', fontweight='bold')\n",
    "ax1.grid()\n",
    "\n",
    "#Firehouse Museum\n",
    "ax2.legend()\n",
    "ax2.set_title('Firehouse Museum Visitors', fontweight='bold')\n",
    "ax2.set_xlabel('Age', fontweight='bold')\n",
    "ax2.set_ylabel('Visitors', fontweight='bold')\n",
    "ax2.grid()\n",
    "\n",
    "#Chinese American Museum\n",
    "ax3.legend()\n",
    "ax3.set_title('Chinese American Visitors', fontweight='bold')\n",
    "ax3.set_xlabel('Age', fontweight='bold')\n",
    "ax3.set_ylabel('Visitors', fontweight='bold')\n",
    "ax3.grid()\n",
    "\n",
    "#Total Visitor\n",
    "ax4.legend()\n",
    "ax4.set_title('Total Visitors', fontweight='bold')\n",
    "ax4.set_xlabel('Year', fontweight='bold')\n",
    "ax4.set_ylabel('Visitors', fontweight='bold')\n",
    "\n",
    "plt.tight_layout()\n",
    "plt.show()"
   ]
  },
  {
   "cell_type": "code",
   "execution_count": null,
   "id": "ec253c65",
   "metadata": {},
   "outputs": [],
   "source": []
  }
 ],
 "metadata": {
  "colab": {
   "name": "Tugas_Day6_FazrialFeizal.ipynb",
   "provenance": []
  },
  "kernelspec": {
   "display_name": "Python 3",
   "language": "python",
   "name": "python3"
  },
  "language_info": {
   "codemirror_mode": {
    "name": "ipython",
    "version": 3
   },
   "file_extension": ".py",
   "mimetype": "text/x-python",
   "name": "python",
   "nbconvert_exporter": "python",
   "pygments_lexer": "ipython3",
   "version": "3.8.8"
  }
 },
 "nbformat": 4,
 "nbformat_minor": 5
}
