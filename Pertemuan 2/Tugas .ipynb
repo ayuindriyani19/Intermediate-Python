{
 "cells": [
  {
   "cell_type": "code",
   "execution_count": 3,
   "id": "0baa8735",
   "metadata": {},
   "outputs": [],
   "source": [
    "import numpy as np"
   ]
  },
  {
   "cell_type": "code",
   "execution_count": 15,
   "id": "9ecdc7b4",
   "metadata": {},
   "outputs": [
    {
     "data": {
      "text/plain": [
       "array([[0, 1, 0, 1, 0, 1, 0, 1],\n",
       "       [1, 0, 1, 0, 1, 0, 1, 0],\n",
       "       [0, 1, 0, 1, 0, 1, 0, 1],\n",
       "       [1, 0, 1, 0, 1, 0, 1, 0],\n",
       "       [0, 1, 0, 1, 0, 1, 0, 1],\n",
       "       [1, 0, 1, 0, 1, 0, 1, 0],\n",
       "       [0, 1, 0, 1, 0, 1, 0, 1],\n",
       "       [1, 0, 1, 0, 1, 0, 1, 0]])"
      ]
     },
     "execution_count": 15,
     "metadata": {},
     "output_type": "execute_result"
    }
   ],
   "source": [
    "#cara satu\n",
    "\n",
    "cara_satu = np.zeros((8,8), dtype=int)\n",
    "\n",
    "for x in range(8):\n",
    "    for y in range(8):\n",
    "        if((x+y)%2==1):\n",
    "            cara_satu[x,y]=cara_satu[x,y]=1\n",
    "\n",
    "print(cara_satu)"
   ]
  },
  {
   "cell_type": "code",
   "execution_count": 17,
   "id": "0c94a847",
   "metadata": {},
   "outputs": [
    {
     "name": "stdout",
     "output_type": "stream",
     "text": [
      "[[1 0 1 0 1 0 1 0]\n",
      " [1 0 1 0 1 0 1 0]\n",
      " [1 0 1 0 1 0 1 0]\n",
      " [1 0 1 0 1 0 1 0]\n",
      " [1 0 1 0 1 0 1 0]\n",
      " [1 0 1 0 1 0 1 0]\n",
      " [1 0 1 0 1 0 1 0]\n",
      " [1 0 1 0 1 0 1 0]]\n"
     ]
    }
   ],
   "source": [
    "#cara dua\n",
    "\n",
    "cara_dua = np.zeros((8,8), dtype=int) #matrix\n",
    "\n",
    "cara_dua[1::2, ::2] = 1 # \n",
    "cara_dua[::2, ::2] = 1\n",
    "\n",
    "print(cara_dua)"
   ]
  }
 ],
 "metadata": {
  "kernelspec": {
   "display_name": "Python 3",
   "language": "python",
   "name": "python3"
  },
  "language_info": {
   "codemirror_mode": {
    "name": "ipython",
    "version": 3
   },
   "file_extension": ".py",
   "mimetype": "text/x-python",
   "name": "python",
   "nbconvert_exporter": "python",
   "pygments_lexer": "ipython3",
   "version": "3.8.8"
  }
 },
 "nbformat": 4,
 "nbformat_minor": 5
}
