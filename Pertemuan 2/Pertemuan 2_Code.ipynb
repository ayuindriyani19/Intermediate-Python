{
 "cells": [
  {
   "cell_type": "code",
   "execution_count": 1,
   "id": "fae60262",
   "metadata": {},
   "outputs": [],
   "source": [
    "# Import Numpy library\n",
    "import numpy as np"
   ]
  },
  {
   "cell_type": "code",
   "execution_count": 3,
   "id": "11535a59",
   "metadata": {},
   "outputs": [
    {
     "data": {
      "text/plain": [
       "array([1, 2, 3])"
      ]
     },
     "execution_count": 3,
     "metadata": {},
     "output_type": "execute_result"
    }
   ],
   "source": [
    "#  Array satu dimensi\n",
    "a = np.array([1, 2, 3])\n",
    "\n",
    "a"
   ]
  },
  {
   "cell_type": "code",
   "execution_count": 4,
   "id": "139d5ccb",
   "metadata": {},
   "outputs": [
    {
     "data": {
      "text/plain": [
       "array([[1, 2, 3],\n",
       "       [4, 5, 6]])"
      ]
     },
     "execution_count": 4,
     "metadata": {},
     "output_type": "execute_result"
    }
   ],
   "source": [
    "# Aray dua dimensional\n",
    "b = np.array([[1, 2, 3], \n",
    "              [4, 5, 6]])\n",
    "b"
   ]
  },
  {
   "cell_type": "markdown",
   "id": "1e04ddbb",
   "metadata": {},
   "source": [
    "Cara Mengecek Dimensi\n",
    "--"
   ]
  },
  {
   "cell_type": "code",
   "execution_count": 6,
   "id": "6854eff0",
   "metadata": {},
   "outputs": [
    {
     "name": "stdout",
     "output_type": "stream",
     "text": [
      "dimensi pertama: 1\n",
      "dimensi kedua: 2\n"
     ]
    }
   ],
   "source": [
    "print(\"dimensi pertama:\", a.ndim)\n",
    "\n",
    "print(\"dimensi kedua:\", b.ndim)"
   ]
  },
  {
   "cell_type": "markdown",
   "id": "9f52090c",
   "metadata": {},
   "source": [
    "Cara Mengecek Shape\n",
    "--"
   ]
  },
  {
   "cell_type": "code",
   "execution_count": 7,
   "id": "53f8bbfa",
   "metadata": {},
   "outputs": [
    {
     "name": "stdout",
     "output_type": "stream",
     "text": [
      "dimensi pertama: (3,)\n",
      "dimensi kedua: (2, 3)\n"
     ]
    }
   ],
   "source": [
    "print(\"dimensi pertama:\", a.shape)\n",
    "\n",
    "print(\"dimensi kedua:\", b.shape)"
   ]
  },
  {
   "cell_type": "markdown",
   "id": "c3169616",
   "metadata": {},
   "source": [
    "Cara Mengecek dtype\n",
    "--"
   ]
  },
  {
   "cell_type": "code",
   "execution_count": 8,
   "id": "8b8bd78e",
   "metadata": {},
   "outputs": [
    {
     "name": "stdout",
     "output_type": "stream",
     "text": [
      "dimensi pertama: int32\n",
      "dimensi kedua: int32\n"
     ]
    }
   ],
   "source": [
    "print(\"dimensi pertama:\", a.dtype)\n",
    "\n",
    "print(\"dimensi kedua:\", b.dtype)"
   ]
  },
  {
   "cell_type": "markdown",
   "id": "b0c644ec",
   "metadata": {},
   "source": [
    "Cara Mengecek Size\n",
    "--"
   ]
  },
  {
   "cell_type": "code",
   "execution_count": 9,
   "id": "ecae6bae",
   "metadata": {},
   "outputs": [
    {
     "name": "stdout",
     "output_type": "stream",
     "text": [
      "dimensi pertama: 3\n",
      "dimensi kedua: 6\n"
     ]
    }
   ],
   "source": [
    "print(\"dimensi pertama:\", a.size)\n",
    "\n",
    "print(\"dimensi kedua:\", b.size)"
   ]
  },
  {
   "cell_type": "code",
   "execution_count": 12,
   "id": "520dc149",
   "metadata": {},
   "outputs": [
    {
     "name": "stdout",
     "output_type": "stream",
     "text": [
      "dimensi pertama: 12\n",
      "dimensi kedua: 24\n"
     ]
    }
   ],
   "source": [
    "print(\"dimensi pertama:\", a.nbytes)\n",
    "\n",
    "print(\"dimensi kedua:\", b.nbytes)"
   ]
  },
  {
   "cell_type": "markdown",
   "id": "ec6145b2",
   "metadata": {},
   "source": [
    "NP.ones and zeros\n",
    "---"
   ]
  },
  {
   "cell_type": "markdown",
   "id": "76bd4e35",
   "metadata": {},
   "source": [
    "np.ones\n",
    "--"
   ]
  },
  {
   "cell_type": "code",
   "execution_count": 13,
   "id": "0c53c644",
   "metadata": {},
   "outputs": [
    {
     "name": "stdout",
     "output_type": "stream",
     "text": [
      "[[[1 1 1]\n",
      "  [1 1 1]\n",
      "  [1 1 1]]\n",
      "\n",
      " [[1 1 1]\n",
      "  [1 1 1]\n",
      "  [1 1 1]]\n",
      "\n",
      " [[1 1 1]\n",
      "  [1 1 1]\n",
      "  [1 1 1]]]\n"
     ]
    },
    {
     "data": {
      "text/plain": [
       "3"
      ]
     },
     "execution_count": 13,
     "metadata": {},
     "output_type": "execute_result"
    }
   ],
   "source": [
    "ones_matrix = np.ones((3, 3, 3), dtype=(\"int32\"))\n",
    "\n",
    "print(ones_matrix)\n",
    "ones_matrix.ndim"
   ]
  },
  {
   "cell_type": "markdown",
   "id": "f53761e9",
   "metadata": {},
   "source": [
    "Dalam hal ini dimension memiliki kegunaan yakni dimana semakin banyak dimensi maka akan semakin banyak data yang bisa di store ke setiap dimensi tersebut serta membuat data menjadi lebih rapih."
   ]
  },
  {
   "cell_type": "markdown",
   "id": "a0442a20",
   "metadata": {},
   "source": [
    "np.zeros\n",
    "--"
   ]
  },
  {
   "cell_type": "code",
   "execution_count": 14,
   "id": "03f0e9c3",
   "metadata": {},
   "outputs": [
    {
     "name": "stdout",
     "output_type": "stream",
     "text": [
      "[[[0 0 0]\n",
      "  [0 0 0]\n",
      "  [0 0 0]]\n",
      "\n",
      " [[0 0 0]\n",
      "  [0 0 0]\n",
      "  [0 0 0]]\n",
      "\n",
      " [[0 0 0]\n",
      "  [0 0 0]\n",
      "  [0 0 0]]]\n"
     ]
    },
    {
     "data": {
      "text/plain": [
       "3"
      ]
     },
     "execution_count": 14,
     "metadata": {},
     "output_type": "execute_result"
    }
   ],
   "source": [
    "zeros_matrix = np.zeros((3, 3, 3),\n",
    "                        dtype=(\"int32\"))\n",
    "\n",
    "print(zeros_matrix)\n",
    "zeros_matrix.ndim"
   ]
  },
  {
   "cell_type": "markdown",
   "id": "ca417e22",
   "metadata": {},
   "source": [
    "Np.full and np.rand\n",
    "---"
   ]
  },
  {
   "cell_type": "markdown",
   "id": "59875960",
   "metadata": {},
   "source": [
    "Np.full\n",
    "--"
   ]
  },
  {
   "cell_type": "code",
   "execution_count": 15,
   "id": "97dd5d95",
   "metadata": {},
   "outputs": [
    {
     "name": "stdout",
     "output_type": "stream",
     "text": [
      "[[13292 13292 13292 13292 13292]\n",
      " [13292 13292 13292 13292 13292]\n",
      " [13292 13292 13292 13292 13292]\n",
      " [13292 13292 13292 13292 13292]\n",
      " [13292 13292 13292 13292 13292]]\n"
     ]
    },
    {
     "data": {
      "text/plain": [
       "2"
      ]
     },
     "execution_count": 15,
     "metadata": {},
     "output_type": "execute_result"
    }
   ],
   "source": [
    "full_matrix = np.full((5, 5), 13292)\n",
    "\n",
    "print(full_matrix)\n",
    "full_matrix.ndim "
   ]
  },
  {
   "cell_type": "code",
   "execution_count": 16,
   "id": "a77c0dbc",
   "metadata": {},
   "outputs": [
    {
     "name": "stdout",
     "output_type": "stream",
     "text": [
      "[[0.10797595 0.5181113  0.13990434 0.80012396 0.06501015]\n",
      " [0.48236874 0.18099769 0.30397529 0.34566224 0.90589387]\n",
      " [0.49408632 0.06427625 0.63942409 0.54831696 0.00375383]\n",
      " [0.04631949 0.13486254 0.55599755 0.64289475 0.3219973 ]\n",
      " [0.96261216 0.12021597 0.73334905 0.75096067 0.86229888]]\n"
     ]
    },
    {
     "data": {
      "text/plain": [
       "2"
      ]
     },
     "execution_count": 16,
     "metadata": {},
     "output_type": "execute_result"
    }
   ],
   "source": [
    "random_matrix = np.random.rand(5, 5)\n",
    "\n",
    "print(random_matrix)\n",
    "random_matrix.ndim "
   ]
  },
  {
   "cell_type": "markdown",
   "id": "0f2309c7",
   "metadata": {},
   "source": [
    "Np.randonm\n",
    "--"
   ]
  },
  {
   "cell_type": "code",
   "execution_count": 17,
   "id": "3917c080",
   "metadata": {},
   "outputs": [
    {
     "data": {
      "text/plain": [
       "array([[[-2,  0,  1],\n",
       "        [ 5,  3,  4],\n",
       "        [-1,  1,  2]],\n",
       "\n",
       "       [[-1,  3,  2],\n",
       "        [-2,  1, -2],\n",
       "        [ 3, -1,  0]],\n",
       "\n",
       "       [[ 4,  4,  0],\n",
       "        [ 2,  1,  5],\n",
       "        [ 5,  3,  0]]])"
      ]
     },
     "execution_count": 17,
     "metadata": {},
     "output_type": "execute_result"
    }
   ],
   "source": [
    "np.random.randint(-2, 6, size=(3, 3, 3))"
   ]
  },
  {
   "cell_type": "code",
   "execution_count": 18,
   "id": "d2c9899b",
   "metadata": {},
   "outputs": [
    {
     "data": {
      "text/plain": [
       "array([[1., 0., 0., 0., 0.],\n",
       "       [0., 1., 0., 0., 0.],\n",
       "       [0., 0., 1., 0., 0.],\n",
       "       [0., 0., 0., 1., 0.],\n",
       "       [0., 0., 0., 0., 1.]])"
      ]
     },
     "execution_count": 18,
     "metadata": {},
     "output_type": "execute_result"
    }
   ],
   "source": [
    "np.identity(5)"
   ]
  },
  {
   "cell_type": "markdown",
   "id": "2e560df7",
   "metadata": {},
   "source": [
    "Slicing\n",
    "---"
   ]
  },
  {
   "cell_type": "code",
   "execution_count": 19,
   "id": "b18c62ca",
   "metadata": {},
   "outputs": [
    {
     "data": {
      "text/plain": [
       "array([[ 4,  0,  5],\n",
       "       [ 5, -1,  0],\n",
       "       [-2,  4,  3]])"
      ]
     },
     "execution_count": 19,
     "metadata": {},
     "output_type": "execute_result"
    }
   ],
   "source": [
    "# Define variable\n",
    "for_slicing = np.random.randint(-2, 6, size=(3, 3))\n",
    "\n",
    "# Output check\n",
    "for_slicing"
   ]
  },
  {
   "cell_type": "code",
   "execution_count": 20,
   "id": "92cd5284",
   "metadata": {},
   "outputs": [
    {
     "data": {
      "text/plain": [
       "0"
      ]
     },
     "execution_count": 20,
     "metadata": {},
     "output_type": "execute_result"
    }
   ],
   "source": [
    "for_slicing[1, 2] # Variable[baris keberapa, kolom keberapa]"
   ]
  },
  {
   "cell_type": "code",
   "execution_count": 21,
   "id": "e43e60aa",
   "metadata": {},
   "outputs": [
    {
     "data": {
      "text/plain": [
       "5"
      ]
     },
     "execution_count": 21,
     "metadata": {},
     "output_type": "execute_result"
    }
   ],
   "source": [
    "for_slicing[0, 2]"
   ]
  },
  {
   "cell_type": "code",
   "execution_count": 22,
   "id": "1d22c82c",
   "metadata": {},
   "outputs": [
    {
     "data": {
      "text/plain": [
       "4"
      ]
     },
     "execution_count": 22,
     "metadata": {},
     "output_type": "execute_result"
    }
   ],
   "source": [
    "for_slicing[2, 1]"
   ]
  },
  {
   "cell_type": "code",
   "execution_count": 23,
   "id": "9077e571",
   "metadata": {},
   "outputs": [
    {
     "data": {
      "text/plain": [
       "array([[[4, 2, 9, 2, 1],\n",
       "        [5, 3, 7, 8, 1],\n",
       "        [2, 6, 4, 7, 6],\n",
       "        [5, 7, 3, 4, 9],\n",
       "        [1, 6, 3, 5, 9]],\n",
       "\n",
       "       [[9, 4, 0, 6, 4],\n",
       "        [0, 6, 1, 6, 8],\n",
       "        [4, 6, 4, 4, 9],\n",
       "        [2, 0, 2, 3, 5],\n",
       "        [8, 6, 7, 2, 7]],\n",
       "\n",
       "       [[1, 6, 4, 0, 8],\n",
       "        [1, 4, 4, 2, 6],\n",
       "        [6, 1, 9, 7, 0],\n",
       "        [8, 2, 8, 4, 0],\n",
       "        [7, 5, 8, 4, 3]],\n",
       "\n",
       "       [[4, 3, 4, 6, 4],\n",
       "        [1, 3, 5, 6, 3],\n",
       "        [3, 8, 0, 6, 3],\n",
       "        [4, 3, 3, 6, 1],\n",
       "        [7, 9, 4, 4, 5]],\n",
       "\n",
       "       [[8, 5, 7, 9, 7],\n",
       "        [0, 8, 8, 4, 9],\n",
       "        [5, 8, 7, 6, 9],\n",
       "        [8, 2, 2, 1, 3],\n",
       "        [0, 7, 1, 6, 5]]])"
      ]
     },
     "execution_count": 23,
     "metadata": {},
     "output_type": "execute_result"
    }
   ],
   "source": [
    "# Define variable\n",
    "for_slicing_2 = np.random.randint(0, 10, size=(5, 5, 5))\n",
    "\n",
    "# Output check\n",
    "for_slicing_2"
   ]
  },
  {
   "cell_type": "code",
   "execution_count": 24,
   "id": "3707e9c6",
   "metadata": {},
   "outputs": [
    {
     "data": {
      "text/plain": [
       "6"
      ]
     },
     "execution_count": 24,
     "metadata": {},
     "output_type": "execute_result"
    }
   ],
   "source": [
    "for_slicing_2[1, 1, 1] # Variable[group,row,column]"
   ]
  },
  {
   "cell_type": "markdown",
   "id": "e8562535",
   "metadata": {},
   "source": [
    "Special slicing \":\"\n",
    "---"
   ]
  },
  {
   "cell_type": "code",
   "execution_count": 26,
   "id": "f4b3f85e",
   "metadata": {},
   "outputs": [
    {
     "data": {
      "text/plain": [
       "array([[[3, 7, 8, 1],\n",
       "        [6, 4, 7, 6],\n",
       "        [7, 3, 4, 9],\n",
       "        [6, 3, 5, 9]],\n",
       "\n",
       "       [[6, 1, 6, 8],\n",
       "        [6, 4, 4, 9],\n",
       "        [0, 2, 3, 5],\n",
       "        [6, 7, 2, 7]],\n",
       "\n",
       "       [[4, 4, 2, 6],\n",
       "        [1, 9, 7, 0],\n",
       "        [2, 8, 4, 0],\n",
       "        [5, 8, 4, 3]],\n",
       "\n",
       "       [[3, 5, 6, 3],\n",
       "        [8, 0, 6, 3],\n",
       "        [3, 3, 6, 1],\n",
       "        [9, 4, 4, 5]],\n",
       "\n",
       "       [[8, 8, 4, 9],\n",
       "        [8, 7, 6, 9],\n",
       "        [2, 2, 1, 3],\n",
       "        [7, 1, 6, 5]]])"
      ]
     },
     "execution_count": 26,
     "metadata": {},
     "output_type": "execute_result"
    }
   ],
   "source": [
    "for_slicing_2[:, 1:, 1:]"
   ]
  },
  {
   "cell_type": "code",
   "execution_count": 27,
   "id": "485375c3",
   "metadata": {},
   "outputs": [
    {
     "data": {
      "text/plain": [
       "array([[6, 4, 4],\n",
       "       [1, 9, 7],\n",
       "       [8, 0, 6]])"
      ]
     },
     "execution_count": 27,
     "metadata": {},
     "output_type": "execute_result"
    }
   ],
   "source": [
    "for_slicing_2[1:4, 2, 1:4]"
   ]
  },
  {
   "cell_type": "markdown",
   "id": "440fd016",
   "metadata": {},
   "source": [
    "Mengganti elemen menggunakan metode slicing \n",
    "---"
   ]
  },
  {
   "cell_type": "code",
   "execution_count": 28,
   "id": "a00e3bc6",
   "metadata": {},
   "outputs": [
    {
     "name": "stdout",
     "output_type": "stream",
     "text": [
      "[[[   4    2    9    2    1]\n",
      "  [   5    3    7    8    1]\n",
      "  [   2    6    4    7    6]\n",
      "  [   5    7    3    4    9]\n",
      "  [   1    6    3    5    9]]\n",
      "\n",
      " [[   9    4    0    6    4]\n",
      "  [   0 2357    1    6    8]\n",
      "  [   4    6    4    4    9]\n",
      "  [   2    0    2    3    5]\n",
      "  [   8    6    7    2    7]]\n",
      "\n",
      " [[   1    6    4    0    8]\n",
      "  [   1    4    4    2    6]\n",
      "  [   6    1    9    7    0]\n",
      "  [   8    2    8    4    0]\n",
      "  [   7    5    8    4    3]]\n",
      "\n",
      " [[   4    3    4    6    4]\n",
      "  [   1    3    5    6    3]\n",
      "  [   3    8    0    6    3]\n",
      "  [   4    3    3    6    1]\n",
      "  [   7    9    4    4    5]]\n",
      "\n",
      " [[   8    5    7    9    7]\n",
      "  [   0    8    8    4    9]\n",
      "  [   5    8    7    6    9]\n",
      "  [   8    2    2    1    3]\n",
      "  [   0    7    1    6    5]]]\n"
     ]
    }
   ],
   "source": [
    "for_slicing_2[1, 1, 1] = 2357\n",
    "\n",
    "# Output\n",
    "print(for_slicing_2)"
   ]
  },
  {
   "cell_type": "markdown",
   "id": "14abeb44",
   "metadata": {},
   "source": [
    "Latihan 1\n",
    "---"
   ]
  },
  {
   "cell_type": "markdown",
   "id": "9af00d81",
   "metadata": {},
   "source": [
    "Buatlah sebuah matrix random float (range angka = 0 - 1) dengan ukuran size 5, 5, 5 lalu slice lah di tiap group row 4(hitungan biasa) dan elemen ke 1-3(hitungan biasa)"
   ]
  },
  {
   "cell_type": "code",
   "execution_count": 30,
   "id": "b94467d0",
   "metadata": {},
   "outputs": [
    {
     "name": "stdout",
     "output_type": "stream",
     "text": [
      "[[[0.58107405 0.70304928 0.34775789 0.46252314 0.36698881]\n",
      "  [0.58456749 0.463153   0.4874786  0.27857196 0.4722676 ]\n",
      "  [0.10842046 0.9286826  0.87633449 0.82374636 0.42800968]\n",
      "  [0.66852623 0.07706923 0.77954353 0.77540895 0.40639123]\n",
      "  [0.59292762 0.91141617 0.5000243  0.5748402  0.02853649]]\n",
      "\n",
      " [[0.73733354 0.74752952 0.58517979 0.26715222 0.10187582]\n",
      "  [0.89572049 0.40312174 0.45640136 0.96990406 0.48858255]\n",
      "  [0.54584442 0.6099089  0.33911944 0.55164346 0.18092047]\n",
      "  [0.56625087 0.56774103 0.41496334 0.950508   0.47567626]\n",
      "  [0.09131929 0.3115425  0.23013276 0.70591028 0.38589552]]\n",
      "\n",
      " [[0.34075771 0.99368842 0.54660086 0.39650521 0.7125139 ]\n",
      "  [0.04576385 0.07595227 0.44582534 0.63925558 0.67414673]\n",
      "  [0.18394405 0.33057565 0.17923387 0.66058133 0.54153571]\n",
      "  [0.47907846 0.74088815 0.23622262 0.82072154 0.98501962]\n",
      "  [0.3051051  0.99395596 0.1628349  0.23626062 0.99733219]]\n",
      "\n",
      " [[0.21324571 0.25360901 0.40620088 0.04738109 0.44868858]\n",
      "  [0.71793642 0.0413196  0.77265591 0.59695575 0.90689429]\n",
      "  [0.43115128 0.68699341 0.28243941 0.74769708 0.40374166]\n",
      "  [0.98711401 0.86600718 0.35515611 0.86653072 0.16388468]\n",
      "  [0.69415224 0.08983645 0.09736413 0.80987404 0.90293885]]\n",
      "\n",
      " [[0.62528076 0.46909195 0.43041162 0.66811381 0.35703402]\n",
      "  [0.04344855 0.77001508 0.98048933 0.05652691 0.61595848]\n",
      "  [0.40799562 0.71136709 0.16291722 0.35160339 0.33567172]\n",
      "  [0.49493374 0.79210878 0.86612601 0.09280194 0.69523889]\n",
      "  [0.79019193 0.2287025  0.70623174 0.64908472 0.47081708]]]\n",
      "\n",
      "\n",
      "jawaban: \n",
      "  [[0.66852623 0.07706923 0.77954353]\n",
      " [0.56625087 0.56774103 0.41496334]\n",
      " [0.47907846 0.74088815 0.23622262]\n",
      " [0.98711401 0.86600718 0.35515611]\n",
      " [0.49493374 0.79210878 0.86612601]]\n"
     ]
    }
   ],
   "source": [
    "latihan_1 = np.random.rand(5, 5, 5)\n",
    "\n",
    "#variable\n",
    "print(latihan_1)\n",
    "\n",
    "print(\"\\n\\njawaban: \\n \", \n",
    "      latihan_1[:, 3, :3])"
   ]
  },
  {
   "cell_type": "markdown",
   "id": "efbacb7d",
   "metadata": {},
   "source": [
    "Stacking\n",
    "---"
   ]
  },
  {
   "cell_type": "markdown",
   "id": "076c5c28",
   "metadata": {},
   "source": [
    "Vertical Stacking\n",
    "--"
   ]
  },
  {
   "cell_type": "code",
   "execution_count": 31,
   "id": "8e922c21",
   "metadata": {},
   "outputs": [
    {
     "data": {
      "text/plain": [
       "array([[1, 1, 1],\n",
       "       [1, 1, 1],\n",
       "       [1, 1, 1],\n",
       "       [0, 0, 0],\n",
       "       [0, 0, 0],\n",
       "       [0, 0, 0],\n",
       "       [1, 1, 1],\n",
       "       [1, 1, 1],\n",
       "       [1, 1, 1],\n",
       "       [0, 0, 0],\n",
       "       [0, 0, 0],\n",
       "       [0, 0, 0]])"
      ]
     },
     "execution_count": 31,
     "metadata": {},
     "output_type": "execute_result"
    }
   ],
   "source": [
    "# variable\n",
    "v1 = np.ones((3, 3), dtype=\"int\")\n",
    "v2 = np.zeros((3, 3), dtype=\"int\")\n",
    "\n",
    "np.vstack([v1, v2, v1, v2])"
   ]
  },
  {
   "cell_type": "markdown",
   "id": "f5b85b3c",
   "metadata": {},
   "source": [
    "Horizontal Stacking\n",
    "--"
   ]
  },
  {
   "cell_type": "code",
   "execution_count": 32,
   "id": "83523a82",
   "metadata": {},
   "outputs": [
    {
     "data": {
      "text/plain": [
       "array([[1, 1, 1, 0, 0, 0],\n",
       "       [1, 1, 1, 0, 0, 0],\n",
       "       [1, 1, 1, 0, 0, 0]])"
      ]
     },
     "execution_count": 32,
     "metadata": {},
     "output_type": "execute_result"
    }
   ],
   "source": [
    "np.hstack([v1, v2])"
   ]
  },
  {
   "cell_type": "markdown",
   "id": "40ec9790",
   "metadata": {},
   "source": [
    "Statistics\n",
    "---"
   ]
  },
  {
   "cell_type": "code",
   "execution_count": 34,
   "id": "3024cce7",
   "metadata": {},
   "outputs": [
    {
     "data": {
      "text/plain": [
       "array([[1, 2, 3],\n",
       "       [4, 5, 6]])"
      ]
     },
     "execution_count": 34,
     "metadata": {},
     "output_type": "execute_result"
    }
   ],
   "source": [
    "# variable\n",
    "stats = np.array([[1, 2, 3],\n",
    "                  [4, 5, 6]])\n",
    "\n",
    "# Check variable\n",
    "stats"
   ]
  },
  {
   "cell_type": "code",
   "execution_count": 35,
   "id": "1a54d699",
   "metadata": {},
   "outputs": [
    {
     "data": {
      "text/plain": [
       "6"
      ]
     },
     "execution_count": 35,
     "metadata": {},
     "output_type": "execute_result"
    }
   ],
   "source": [
    "np.max(stats)"
   ]
  },
  {
   "cell_type": "code",
   "execution_count": 37,
   "id": "a912b24d",
   "metadata": {},
   "outputs": [
    {
     "data": {
      "text/plain": [
       "1"
      ]
     },
     "execution_count": 37,
     "metadata": {},
     "output_type": "execute_result"
    }
   ],
   "source": [
    "np.min(stats)"
   ]
  },
  {
   "cell_type": "code",
   "execution_count": 36,
   "id": "bdfd2508",
   "metadata": {},
   "outputs": [
    {
     "data": {
      "text/plain": [
       "3.5"
      ]
     },
     "execution_count": 36,
     "metadata": {},
     "output_type": "execute_result"
    }
   ],
   "source": [
    "np.median(stats)"
   ]
  },
  {
   "cell_type": "code",
   "execution_count": 38,
   "id": "9d5fa9a5",
   "metadata": {},
   "outputs": [
    {
     "data": {
      "text/plain": [
       "3.5"
      ]
     },
     "execution_count": 38,
     "metadata": {},
     "output_type": "execute_result"
    }
   ],
   "source": [
    "np.mean(stats)"
   ]
  },
  {
   "cell_type": "code",
   "execution_count": 39,
   "id": "73999e66",
   "metadata": {},
   "outputs": [
    {
     "data": {
      "text/plain": [
       "21"
      ]
     },
     "execution_count": 39,
     "metadata": {},
     "output_type": "execute_result"
    }
   ],
   "source": [
    "np.sum(stats)"
   ]
  },
  {
   "cell_type": "code",
   "execution_count": 40,
   "id": "98ef593e",
   "metadata": {},
   "outputs": [
    {
     "data": {
      "text/plain": [
       "array([ 6, 15])"
      ]
     },
     "execution_count": 40,
     "metadata": {},
     "output_type": "execute_result"
    }
   ],
   "source": [
    "np.sum(stats, axis=1) # Axis 1 adalah baris, axis 0 adalah kolom "
   ]
  },
  {
   "cell_type": "code",
   "execution_count": 41,
   "id": "4ff473ef",
   "metadata": {},
   "outputs": [
    {
     "data": {
      "text/plain": [
       "array([5, 7, 9])"
      ]
     },
     "execution_count": 41,
     "metadata": {},
     "output_type": "execute_result"
    }
   ],
   "source": [
    "np.sum(stats, axis=0)"
   ]
  }
 ],
 "metadata": {
  "kernelspec": {
   "display_name": "Python 3",
   "language": "python",
   "name": "python3"
  },
  "language_info": {
   "codemirror_mode": {
    "name": "ipython",
    "version": 3
   },
   "file_extension": ".py",
   "mimetype": "text/x-python",
   "name": "python",
   "nbconvert_exporter": "python",
   "pygments_lexer": "ipython3",
   "version": "3.8.8"
  }
 },
 "nbformat": 4,
 "nbformat_minor": 5
}
